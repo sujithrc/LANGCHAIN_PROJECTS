{
  "nbformat": 4,
  "nbformat_minor": 0,
  "metadata": {
    "colab": {
      "provenance": [],
      "gpuType": "T4",
      "authorship_tag": "ABX9TyN1xRKatZinl1EttLNHMmB+",
      "include_colab_link": true
    },
    "kernelspec": {
      "name": "python3",
      "display_name": "Python 3"
    },
    "language_info": {
      "name": "python"
    },
    "accelerator": "GPU"
  },
  "cells": [
    {
      "cell_type": "markdown",
      "metadata": {
        "id": "view-in-github",
        "colab_type": "text"
      },
      "source": [
        "<a href=\"https://colab.research.google.com/github/sujithrc/LANGCHAIN_PROJECTS/blob/main/pdfQuery.ipynb\" target=\"_parent\"><img src=\"https://colab.research.google.com/assets/colab-badge.svg\" alt=\"Open In Colab\"/></a>"
      ]
    },
    {
      "cell_type": "code",
      "execution_count": null,
      "metadata": {
        "colab": {
          "base_uri": "https://localhost:8080/"
        },
        "id": "X-WsC6Z4xv1h",
        "outputId": "3723cf1e-07e8-43b4-906b-0e839899deec"
      },
      "outputs": [
        {
          "output_type": "stream",
          "name": "stdout",
          "text": [
            "Requirement already satisfied: langchain in /usr/local/lib/python3.10/dist-packages (0.2.12)\n",
            "Requirement already satisfied: PyYAML>=5.3 in /usr/local/lib/python3.10/dist-packages (from langchain) (6.0.1)\n",
            "Requirement already satisfied: SQLAlchemy<3,>=1.4 in /usr/local/lib/python3.10/dist-packages (from langchain) (2.0.31)\n",
            "Requirement already satisfied: aiohttp<4.0.0,>=3.8.3 in /usr/local/lib/python3.10/dist-packages (from langchain) (3.10.0)\n",
            "Requirement already satisfied: async-timeout<5.0.0,>=4.0.0 in /usr/local/lib/python3.10/dist-packages (from langchain) (4.0.3)\n",
            "Requirement already satisfied: langchain-core<0.3.0,>=0.2.27 in /usr/local/lib/python3.10/dist-packages (from langchain) (0.2.28)\n",
            "Requirement already satisfied: langchain-text-splitters<0.3.0,>=0.2.0 in /usr/local/lib/python3.10/dist-packages (from langchain) (0.2.2)\n",
            "Requirement already satisfied: langsmith<0.2.0,>=0.1.17 in /usr/local/lib/python3.10/dist-packages (from langchain) (0.1.98)\n",
            "Requirement already satisfied: numpy<2,>=1 in /usr/local/lib/python3.10/dist-packages (from langchain) (1.26.4)\n",
            "Requirement already satisfied: pydantic<3,>=1 in /usr/local/lib/python3.10/dist-packages (from langchain) (2.8.2)\n",
            "Requirement already satisfied: requests<3,>=2 in /usr/local/lib/python3.10/dist-packages (from langchain) (2.31.0)\n",
            "Requirement already satisfied: tenacity!=8.4.0,<9.0.0,>=8.1.0 in /usr/local/lib/python3.10/dist-packages (from langchain) (8.5.0)\n",
            "Requirement already satisfied: aiohappyeyeballs>=2.3.0 in /usr/local/lib/python3.10/dist-packages (from aiohttp<4.0.0,>=3.8.3->langchain) (2.3.4)\n",
            "Requirement already satisfied: aiosignal>=1.1.2 in /usr/local/lib/python3.10/dist-packages (from aiohttp<4.0.0,>=3.8.3->langchain) (1.3.1)\n",
            "Requirement already satisfied: attrs>=17.3.0 in /usr/local/lib/python3.10/dist-packages (from aiohttp<4.0.0,>=3.8.3->langchain) (23.2.0)\n",
            "Requirement already satisfied: frozenlist>=1.1.1 in /usr/local/lib/python3.10/dist-packages (from aiohttp<4.0.0,>=3.8.3->langchain) (1.4.1)\n",
            "Requirement already satisfied: multidict<7.0,>=4.5 in /usr/local/lib/python3.10/dist-packages (from aiohttp<4.0.0,>=3.8.3->langchain) (6.0.5)\n",
            "Requirement already satisfied: yarl<2.0,>=1.0 in /usr/local/lib/python3.10/dist-packages (from aiohttp<4.0.0,>=3.8.3->langchain) (1.9.4)\n",
            "Requirement already satisfied: jsonpatch<2.0,>=1.33 in /usr/local/lib/python3.10/dist-packages (from langchain-core<0.3.0,>=0.2.27->langchain) (1.33)\n",
            "Requirement already satisfied: packaging<25,>=23.2 in /usr/local/lib/python3.10/dist-packages (from langchain-core<0.3.0,>=0.2.27->langchain) (24.1)\n",
            "Requirement already satisfied: typing-extensions>=4.7 in /usr/local/lib/python3.10/dist-packages (from langchain-core<0.3.0,>=0.2.27->langchain) (4.12.2)\n",
            "Requirement already satisfied: orjson<4.0.0,>=3.9.14 in /usr/local/lib/python3.10/dist-packages (from langsmith<0.2.0,>=0.1.17->langchain) (3.10.6)\n",
            "Requirement already satisfied: annotated-types>=0.4.0 in /usr/local/lib/python3.10/dist-packages (from pydantic<3,>=1->langchain) (0.7.0)\n",
            "Requirement already satisfied: pydantic-core==2.20.1 in /usr/local/lib/python3.10/dist-packages (from pydantic<3,>=1->langchain) (2.20.1)\n",
            "Requirement already satisfied: charset-normalizer<4,>=2 in /usr/local/lib/python3.10/dist-packages (from requests<3,>=2->langchain) (3.3.2)\n",
            "Requirement already satisfied: idna<4,>=2.5 in /usr/local/lib/python3.10/dist-packages (from requests<3,>=2->langchain) (3.7)\n",
            "Requirement already satisfied: urllib3<3,>=1.21.1 in /usr/local/lib/python3.10/dist-packages (from requests<3,>=2->langchain) (2.0.7)\n",
            "Requirement already satisfied: certifi>=2017.4.17 in /usr/local/lib/python3.10/dist-packages (from requests<3,>=2->langchain) (2024.7.4)\n",
            "Requirement already satisfied: greenlet!=0.4.17 in /usr/local/lib/python3.10/dist-packages (from SQLAlchemy<3,>=1.4->langchain) (3.0.3)\n",
            "Requirement already satisfied: jsonpointer>=1.9 in /usr/local/lib/python3.10/dist-packages (from jsonpatch<2.0,>=1.33->langchain-core<0.3.0,>=0.2.27->langchain) (3.0.0)\n",
            "Requirement already satisfied: openai in /usr/local/lib/python3.10/dist-packages (1.40.0)\n",
            "Requirement already satisfied: anyio<5,>=3.5.0 in /usr/local/lib/python3.10/dist-packages (from openai) (3.7.1)\n",
            "Requirement already satisfied: distro<2,>=1.7.0 in /usr/lib/python3/dist-packages (from openai) (1.7.0)\n",
            "Requirement already satisfied: httpx<1,>=0.23.0 in /usr/local/lib/python3.10/dist-packages (from openai) (0.27.0)\n",
            "Requirement already satisfied: jiter<1,>=0.4.0 in /usr/local/lib/python3.10/dist-packages (from openai) (0.5.0)\n",
            "Requirement already satisfied: pydantic<3,>=1.9.0 in /usr/local/lib/python3.10/dist-packages (from openai) (2.8.2)\n",
            "Requirement already satisfied: sniffio in /usr/local/lib/python3.10/dist-packages (from openai) (1.3.1)\n",
            "Requirement already satisfied: tqdm>4 in /usr/local/lib/python3.10/dist-packages (from openai) (4.66.4)\n",
            "Requirement already satisfied: typing-extensions<5,>=4.11 in /usr/local/lib/python3.10/dist-packages (from openai) (4.12.2)\n",
            "Requirement already satisfied: idna>=2.8 in /usr/local/lib/python3.10/dist-packages (from anyio<5,>=3.5.0->openai) (3.7)\n",
            "Requirement already satisfied: exceptiongroup in /usr/local/lib/python3.10/dist-packages (from anyio<5,>=3.5.0->openai) (1.2.2)\n",
            "Requirement already satisfied: certifi in /usr/local/lib/python3.10/dist-packages (from httpx<1,>=0.23.0->openai) (2024.7.4)\n",
            "Requirement already satisfied: httpcore==1.* in /usr/local/lib/python3.10/dist-packages (from httpx<1,>=0.23.0->openai) (1.0.5)\n",
            "Requirement already satisfied: h11<0.15,>=0.13 in /usr/local/lib/python3.10/dist-packages (from httpcore==1.*->httpx<1,>=0.23.0->openai) (0.14.0)\n",
            "Requirement already satisfied: annotated-types>=0.4.0 in /usr/local/lib/python3.10/dist-packages (from pydantic<3,>=1.9.0->openai) (0.7.0)\n",
            "Requirement already satisfied: pydantic-core==2.20.1 in /usr/local/lib/python3.10/dist-packages (from pydantic<3,>=1.9.0->openai) (2.20.1)\n",
            "Requirement already satisfied: PyPDF2 in /usr/local/lib/python3.10/dist-packages (3.0.1)\n",
            "Requirement already satisfied: faiss-cpu in /usr/local/lib/python3.10/dist-packages (1.8.0.post1)\n",
            "Requirement already satisfied: numpy<2.0,>=1.0 in /usr/local/lib/python3.10/dist-packages (from faiss-cpu) (1.26.4)\n",
            "Requirement already satisfied: packaging in /usr/local/lib/python3.10/dist-packages (from faiss-cpu) (24.1)\n",
            "Requirement already satisfied: tiktoken in /usr/local/lib/python3.10/dist-packages (0.7.0)\n",
            "Requirement already satisfied: regex>=2022.1.18 in /usr/local/lib/python3.10/dist-packages (from tiktoken) (2024.5.15)\n",
            "Requirement already satisfied: requests>=2.26.0 in /usr/local/lib/python3.10/dist-packages (from tiktoken) (2.31.0)\n",
            "Requirement already satisfied: charset-normalizer<4,>=2 in /usr/local/lib/python3.10/dist-packages (from requests>=2.26.0->tiktoken) (3.3.2)\n",
            "Requirement already satisfied: idna<4,>=2.5 in /usr/local/lib/python3.10/dist-packages (from requests>=2.26.0->tiktoken) (3.7)\n",
            "Requirement already satisfied: urllib3<3,>=1.21.1 in /usr/local/lib/python3.10/dist-packages (from requests>=2.26.0->tiktoken) (2.0.7)\n",
            "Requirement already satisfied: certifi>=2017.4.17 in /usr/local/lib/python3.10/dist-packages (from requests>=2.26.0->tiktoken) (2024.7.4)\n"
          ]
        }
      ],
      "source": [
        "!pip install langchain\n",
        "!pip install openai\n",
        "!pip install PyPDF2\n",
        "!pip install faiss-cpu\n",
        "!pip install tiktoken"
      ]
    },
    {
      "cell_type": "code",
      "source": [
        "pip install -U langchain-community\n"
      ],
      "metadata": {
        "colab": {
          "base_uri": "https://localhost:8080/"
        },
        "id": "Ii5cZpVS4SVq",
        "outputId": "25c15529-0794-4051-8f94-c869bd138cec"
      },
      "execution_count": null,
      "outputs": [
        {
          "output_type": "stream",
          "name": "stdout",
          "text": [
            "Collecting langchain-community\n",
            "  Downloading langchain_community-0.2.11-py3-none-any.whl.metadata (2.7 kB)\n",
            "Requirement already satisfied: PyYAML>=5.3 in /usr/local/lib/python3.10/dist-packages (from langchain-community) (6.0.1)\n",
            "Requirement already satisfied: SQLAlchemy<3,>=1.4 in /usr/local/lib/python3.10/dist-packages (from langchain-community) (2.0.31)\n",
            "Requirement already satisfied: aiohttp<4.0.0,>=3.8.3 in /usr/local/lib/python3.10/dist-packages (from langchain-community) (3.10.0)\n",
            "Collecting dataclasses-json<0.7,>=0.5.7 (from langchain-community)\n",
            "  Downloading dataclasses_json-0.6.7-py3-none-any.whl.metadata (25 kB)\n",
            "Requirement already satisfied: langchain<0.3.0,>=0.2.12 in /usr/local/lib/python3.10/dist-packages (from langchain-community) (0.2.12)\n",
            "Requirement already satisfied: langchain-core<0.3.0,>=0.2.27 in /usr/local/lib/python3.10/dist-packages (from langchain-community) (0.2.28)\n",
            "Requirement already satisfied: langsmith<0.2.0,>=0.1.0 in /usr/local/lib/python3.10/dist-packages (from langchain-community) (0.1.98)\n",
            "Requirement already satisfied: numpy<2,>=1 in /usr/local/lib/python3.10/dist-packages (from langchain-community) (1.26.4)\n",
            "Requirement already satisfied: requests<3,>=2 in /usr/local/lib/python3.10/dist-packages (from langchain-community) (2.31.0)\n",
            "Requirement already satisfied: tenacity!=8.4.0,<9.0.0,>=8.1.0 in /usr/local/lib/python3.10/dist-packages (from langchain-community) (8.5.0)\n",
            "Requirement already satisfied: aiohappyeyeballs>=2.3.0 in /usr/local/lib/python3.10/dist-packages (from aiohttp<4.0.0,>=3.8.3->langchain-community) (2.3.4)\n",
            "Requirement already satisfied: aiosignal>=1.1.2 in /usr/local/lib/python3.10/dist-packages (from aiohttp<4.0.0,>=3.8.3->langchain-community) (1.3.1)\n",
            "Requirement already satisfied: attrs>=17.3.0 in /usr/local/lib/python3.10/dist-packages (from aiohttp<4.0.0,>=3.8.3->langchain-community) (23.2.0)\n",
            "Requirement already satisfied: frozenlist>=1.1.1 in /usr/local/lib/python3.10/dist-packages (from aiohttp<4.0.0,>=3.8.3->langchain-community) (1.4.1)\n",
            "Requirement already satisfied: multidict<7.0,>=4.5 in /usr/local/lib/python3.10/dist-packages (from aiohttp<4.0.0,>=3.8.3->langchain-community) (6.0.5)\n",
            "Requirement already satisfied: yarl<2.0,>=1.0 in /usr/local/lib/python3.10/dist-packages (from aiohttp<4.0.0,>=3.8.3->langchain-community) (1.9.4)\n",
            "Requirement already satisfied: async-timeout<5.0,>=4.0 in /usr/local/lib/python3.10/dist-packages (from aiohttp<4.0.0,>=3.8.3->langchain-community) (4.0.3)\n",
            "Collecting marshmallow<4.0.0,>=3.18.0 (from dataclasses-json<0.7,>=0.5.7->langchain-community)\n",
            "  Downloading marshmallow-3.21.3-py3-none-any.whl.metadata (7.1 kB)\n",
            "Collecting typing-inspect<1,>=0.4.0 (from dataclasses-json<0.7,>=0.5.7->langchain-community)\n",
            "  Downloading typing_inspect-0.9.0-py3-none-any.whl.metadata (1.5 kB)\n",
            "Requirement already satisfied: langchain-text-splitters<0.3.0,>=0.2.0 in /usr/local/lib/python3.10/dist-packages (from langchain<0.3.0,>=0.2.12->langchain-community) (0.2.2)\n",
            "Requirement already satisfied: pydantic<3,>=1 in /usr/local/lib/python3.10/dist-packages (from langchain<0.3.0,>=0.2.12->langchain-community) (2.8.2)\n",
            "Requirement already satisfied: jsonpatch<2.0,>=1.33 in /usr/local/lib/python3.10/dist-packages (from langchain-core<0.3.0,>=0.2.27->langchain-community) (1.33)\n",
            "Requirement already satisfied: packaging<25,>=23.2 in /usr/local/lib/python3.10/dist-packages (from langchain-core<0.3.0,>=0.2.27->langchain-community) (24.1)\n",
            "Requirement already satisfied: typing-extensions>=4.7 in /usr/local/lib/python3.10/dist-packages (from langchain-core<0.3.0,>=0.2.27->langchain-community) (4.12.2)\n",
            "Requirement already satisfied: orjson<4.0.0,>=3.9.14 in /usr/local/lib/python3.10/dist-packages (from langsmith<0.2.0,>=0.1.0->langchain-community) (3.10.6)\n",
            "Requirement already satisfied: charset-normalizer<4,>=2 in /usr/local/lib/python3.10/dist-packages (from requests<3,>=2->langchain-community) (3.3.2)\n",
            "Requirement already satisfied: idna<4,>=2.5 in /usr/local/lib/python3.10/dist-packages (from requests<3,>=2->langchain-community) (3.7)\n",
            "Requirement already satisfied: urllib3<3,>=1.21.1 in /usr/local/lib/python3.10/dist-packages (from requests<3,>=2->langchain-community) (2.0.7)\n",
            "Requirement already satisfied: certifi>=2017.4.17 in /usr/local/lib/python3.10/dist-packages (from requests<3,>=2->langchain-community) (2024.7.4)\n",
            "Requirement already satisfied: greenlet!=0.4.17 in /usr/local/lib/python3.10/dist-packages (from SQLAlchemy<3,>=1.4->langchain-community) (3.0.3)\n",
            "Requirement already satisfied: jsonpointer>=1.9 in /usr/local/lib/python3.10/dist-packages (from jsonpatch<2.0,>=1.33->langchain-core<0.3.0,>=0.2.27->langchain-community) (3.0.0)\n",
            "Requirement already satisfied: annotated-types>=0.4.0 in /usr/local/lib/python3.10/dist-packages (from pydantic<3,>=1->langchain<0.3.0,>=0.2.12->langchain-community) (0.7.0)\n",
            "Requirement already satisfied: pydantic-core==2.20.1 in /usr/local/lib/python3.10/dist-packages (from pydantic<3,>=1->langchain<0.3.0,>=0.2.12->langchain-community) (2.20.1)\n",
            "Collecting mypy-extensions>=0.3.0 (from typing-inspect<1,>=0.4.0->dataclasses-json<0.7,>=0.5.7->langchain-community)\n",
            "  Downloading mypy_extensions-1.0.0-py3-none-any.whl.metadata (1.1 kB)\n",
            "Downloading langchain_community-0.2.11-py3-none-any.whl (2.3 MB)\n",
            "\u001b[2K   \u001b[90m━━━━━━━━━━━━━━━━━━━━━━━━━━━━━━━━━━━━━━━━\u001b[0m \u001b[32m2.3/2.3 MB\u001b[0m \u001b[31m44.9 MB/s\u001b[0m eta \u001b[36m0:00:00\u001b[0m\n",
            "\u001b[?25hDownloading dataclasses_json-0.6.7-py3-none-any.whl (28 kB)\n",
            "Downloading marshmallow-3.21.3-py3-none-any.whl (49 kB)\n",
            "\u001b[2K   \u001b[90m━━━━━━━━━━━━━━━━━━━━━━━━━━━━━━━━━━━━━━━━\u001b[0m \u001b[32m49.2/49.2 kB\u001b[0m \u001b[31m5.2 MB/s\u001b[0m eta \u001b[36m0:00:00\u001b[0m\n",
            "\u001b[?25hDownloading typing_inspect-0.9.0-py3-none-any.whl (8.8 kB)\n",
            "Downloading mypy_extensions-1.0.0-py3-none-any.whl (4.7 kB)\n",
            "Installing collected packages: mypy-extensions, marshmallow, typing-inspect, dataclasses-json, langchain-community\n",
            "Successfully installed dataclasses-json-0.6.7 langchain-community-0.2.11 marshmallow-3.21.3 mypy-extensions-1.0.0 typing-inspect-0.9.0\n"
          ]
        }
      ]
    },
    {
      "cell_type": "code",
      "source": [
        "from PyPDF2 import PdfReader\n",
        "from langchain.embeddings.openai import OpenAIEmbeddings#used for dimensionally reduction\n",
        "from langchain.text_splitter import CharacterTextSplitter\n",
        "from langchain.vectorstores import FAISS#used to store the details/text in the database"
      ],
      "metadata": {
        "id": "gaj9IXvD4VBU"
      },
      "execution_count": null,
      "outputs": []
    },
    {
      "cell_type": "code",
      "source": [
        "import os\n",
        "os.environ[\"OPENAI_API_KEY\"] = \"  \""
      ],
      "metadata": {
        "id": "__8WTaYF4e3t"
      },
      "execution_count": null,
      "outputs": []
    },
    {
      "cell_type": "code",
      "source": [
        "# provide the path of  pdf file/files.\n",
        "pdfreader = PdfReader('/content/sample_data/marvel_and_list.pdf')"
      ],
      "metadata": {
        "id": "nuWGGFwL4g7e"
      },
      "execution_count": null,
      "outputs": []
    },
    {
      "cell_type": "code",
      "source": [
        "from typing_extensions import Concatenate\n",
        "# read text from pdf\n",
        "raw_text = ''\n",
        "for i, page in enumerate(pdfreader.pages):\n",
        "    content = page.extract_text()\n",
        "    if content:\n",
        "        raw_text += content"
      ],
      "metadata": {
        "id": "IKpyYn3r6IgN"
      },
      "execution_count": null,
      "outputs": []
    },
    {
      "cell_type": "code",
      "source": [
        "raw_text"
      ],
      "metadata": {
        "colab": {
          "base_uri": "https://localhost:8080/",
          "height": 174
        },
        "id": "7OifS4H76Nq9",
        "outputId": "2cce59e8-8e5b-4249-b10a-c4abbb29f695"
      },
      "execution_count": null,
      "outputs": [
        {
          "output_type": "execute_result",
          "data": {
            "text/plain": [
              "'See discussions, st ats, and author pr ofiles f or this public ation at : https://www .researchgate.ne t/public ation/314375829\\nThe Marvel and the List\\nChapt er · Januar y 2005\\nDOI: 10.1007/978-1-137-11140-1_6\\nCITATIONS\\n0READS\\n39\\n1 author:\\nMichael Uebel\\nUniv ersity of T exas at A ustin\\n71 PUBLICA TIONS \\xa0\\xa0\\xa0240 CITATIONS \\xa0\\xa0\\xa0\\nSEE PROFILE\\nAll c ontent f ollo wing this p age was uplo aded b y Michael Uebel  on 25 No vember 2018.\\nThe user has r equest ed enhanc ement of the do wnlo aded file..CHAPTERS \\nTHE MARVEL AND THE LIST \\nThis chapter and chapter 6 treat medieval writing, principally the Letter \\nof Prester John, in relation to three generic modalities: the fictional \\nepistola, the list or montage, and the travel narrative. All three genres are \\nparticularly well suited for handling the complexities of relations between \\nself and other that arise when such literature attempts to deal with alterna\\xad\\ntive realities. This chapter aims at explaining the mechanics of these genres, \\nhow they do the work of both keeping alive the reader\\'s interest and, more \\ncrucially, instilling in the reader the desire for an alternative reality. \\nI begin with a brief discussion of fictional letters, and, by focusing on \\nwonder-letters, lay bare the special way that these documents structure the \\nreader\\'s suspension of disbelief.Wonder-letters provoke the reader to invest \\nin a new kind of reality, one that is future oriented, open, and utopic, rather \\nthan static, locative, and closed. The centrifugal force of wonder-letters \\nderives from the way they put forward certain arguments about reality. \\nHere, I borrow from documentary film theory the notion of making an \\nargument about reality, an argument aimed not at faithfully describing \\nreality, as if by holding a mirror up to it, but at persuading someone \\nthat the reality being presented is in fact deeply conditioned by ideologi\\xad\\ncal effects. Wonder-letters dramatize this gap between realities-the one \\nyou know and the one you think you know-in order to set up the con\\xad\\ntrast between this world now and a possible one to come. Readers get \\ncaught in this gap, I suggest, when they necessarily become fascinated with \\ndisjunction itself. By suspending the reader between two realities, the \\nletters generate a new level of reality prescribed for cultural and individual \\ntransformation. \\nParts of chapter 5 previously appeared as \"The Pathogenesis of Medieval History,\" by Michael \\nUebel, from Texas Studies in Literature and Language 44. 1, pp. 47-65. Copyright© 2002 by the \\nUniversity of Texas Press. All rights reserved. 104 ECSTATIC TRANSFORMATION \\nturn then to miribilia lists as the chief mode by which readers are \\nmomentarily captivated in the interspace held open by a dual focus upon \\nlocal facts or bits of knowledge (res) and more general, even allegorical, \\nmeanings. I concentrate on the list\\'s didactic function in order to suggest that \\nits cultural value has less to do with preserving knowledge as some recyclable \\ncontent than with systematizing knowledge as a collection of useless frag\\xad\\nments. In their awkward juncture, in the full shock of their incongruity, the \\nfragments acquire utopic value that is not, however, to be derived from any \\nconscious effort on the part of the reader to assimilate them into a coherent, \\nmeaningful whole. \\nLists deny readers the pleasure of final meaning or utopian significance \\nin order precisely to confer upon them pleasure itself in the form of desire. \\nThis chapter hinges on a reading of utopia as a social formation founded on \\nloss, an absence that instills in the reader the desire to search for something \\nto replace or exceed the original missing object. Nowhere is this desire \\nstronger than in the interspace of ritual and pilgrimage. I read the story of \\nthe coffin of St. Thomas in terms of its instantiating a desire to reconcile \\nsame with other, local with distant, and present with future. From this case, \\nI develop a theory of identity that I term \"serial genealogy.\" The problem \\nbefore me is how to ground an approach to self-other relations in history at \\nthose moments when the other resembles the same so closely that the gap \\nbetween the two terms appears seamless. I put to use the Derridean concept \\nof originary delay to show how in such moments the self undergoes radical \\nre:figuration as a point in a series of proximate identities, a point whose \\nmeaning is thrown into question by the other, to the extent that the origi\\xad\\nnal self is rendered anxious, on the move toward an alternative reality. \\nAnxiety propels movement, and so I turn to the genre of the travel \\nnarrative in chapter 6 to uncover the way that identity is figured there as an \\nanxious process, an excited trajectory. The work of travel has everything to \\ndo with utopic movement-both appear structured by anxious desire and \\nboth are deeply implicated in the narrative structure of what I term \"the \\nmoving image!\\' The very flow of images in the Letter ef Prester John installs \\nthe wish to reconstitute, by moving through them, the ruins oflocal bits of \\nhistorical memory (what will be reanimated by the utopic drive). I draw \\nupon psychoanalytic theory from here out because it most powerfully \\nfurnishes a way of talking about the core of fantasy involved in myths \\ncalculated to direct a reader to another space of thinking and acting. \\nChapter 6 builds to a discussion of the ideological value of the flow of \\nimages found in the list structure, a flow bearing genetic resemblance to \\nfilmic montage. I reframe the list in terms of the imaginary relations it \\nproduces and into which readers are interpellated. The montage, the theory \\nof which I borrow from Eisenstein\\'s famous \"agit cinema,\" activates ----------------------------\\nTHE MARVEL AND THE LIST 105 \\nself-analysis leading to self-transformation. In film theory, I would argue, we \\nfind the clearest articulation of the forms such self-analysis can take. Just as \\nthe film viewer is placed by the film and the act of spectation itself into new \\nand multiple relations to the film, the reader of the utopic text is stimulated \\nto leave the close comfort of familiarity for the provocative alien, the ungras\\xad\\npable that leads, even seduces, the reader forward to the discovery of the \\nnew and better. \\nMedieval Letters and the Real \\nCharles-Victor Langlois\\'s pronouncement that \"the most precious documents \\nfor a history of the Middle Ages are letters\"1 not only draws attention to the \\nneglected study and broad significance of medieval epistolography but, for \\nour purposes, prompts an investigation of the specific ways in which letters, \\nlike the Letter ef Prester John, actually construct and represent history in/ of \\nthe Middle Ages. Medieval letters, as \"self-conscious, quasi-public literary \\ndocuments, often written with an eye to future collection and publica\\xad\\ntion,\"2 share with medieval historical writing a concern for conserving the \\n• past for the present, or more precisely; for historicizing the past in the \\npresent. Letters, like histories, work to bring the past into the present, to \\ncollapse the distance between historical alterity and present reality, to ensure \\ncontinuity between two temporal realities. Furthermore, both the epistolary \\nand historical genres provide discursive frameworks for imaginatively appro\\xad\\npriating otherness-such as the \"distant\" past, Saracen history, or marvels \\nof the East-for the fundamental purposes of self-knowledge and self\\xad\\ncreation. Letters, though, are especially revealing of this play of self and \\nother, writer\\'s world and recipient\\'s world, that necessarily inheres in the \\ndistances between the two, in what -scholars of epistolography call the \\nepistolary situation. 3 Accordingly, letters issue from a desire to bridge spatial \\nas well as temporal gaps. They clearly dramatize what I shall call the dialec\\xad\\ntics of presence and absence underwriting :fictional responses to otherness \\nin the Middle Ages. \\nThroughout the Middle Ages, :fictional letters, documents not intended \\nto be sent but nonetheless understood as letters conforming to basic rules \\nof the artes dictaminis, enjoyed widespread and steady circulation. These \\nfictional letters often blurred the generic boundary lines between history \\n(an account of the reality of past events) and literature (imaginative re-creations \\nof such events). 4 So, for example, the immensely popular Epistola Alexandri \\nad Aristotelem, known in England as early as the eighth or ninth century; \\n.. describes the natural wonders of the East against the historical and geograph\\xad\\nical background, however fuzzy, of Alexander\\'s military campaigns in India. 5 \\nThe Epistola functions, in Roland Barthes\\'s terms, as \"an effect of the real,\" 106 ECSTATIC TRANSFORMATION \\nmaking of history a referential system dependent upon mythic, legendary, \\nand fictional details that combine with and ultimately displace historical \\nreality. 6 Other popular letters achieve \"reality effects\" by purporting to be \\nsent by such suprahistorical figures as Christ, the Devil, and the Virgin for \\nthe purpose of instructing, warning, or disciplining wayward clergy.7 Still \\nothers, sometimes despite knowledge of their fictional status, were instru\\xad\\nmental in political negotiations and crusading propaganda. 8 Like the Epistola \\nAlexandri ad Aristotelem, these letters foreground an argument,9 usually \\nauthorized by an extraordinary figure, about the everyday historical world \\nitself, an argument that depends upon contrasting a world with the world, \\nthe supramundane with the mundane. Perhaps most striking about such \\nletters, then, are ways they dramatize and attempt to bridge the gap between \\ntwo disparate realities, the world in which we live and the world in which \\nwe may imagine living. \\nThe letter form encourages, therefore, not a resolution of tension or a \\nsynthesis of opposites in the gap it opens up between two realities, but \\nrather a fascination with disjunction itself, the oscillation between two \\nworlds, one familiar and one strange. The letter offers knowledge of an \\nother, but does so only within a structure amounting to a paradox. This is \\nthe case since, as Bill Nichols puts it, a reader \"caught within oscillations of \\nthe familiar and the strange ... acquire[s] a fascination with this oscillation \\nper se, which leads to a deferment of the completion of knowledge in favor \\nof the perpetuation of the preconditions for this fascination.\"1° Complete \\nknowledge is thus always elusive, illusory because it is intrinsically allusive. \\nWhat a letter withholds, allusively gestures toward, becomes finally as inter\\xad\\nesting as what it reveals; or, to put it another way, what maintains interest is \\nprecisely the play of withholding and revelation. That such play and contra\\xad\\ndiction, then, should trouble the rationalistic minds of churchmen like \\nGuibert of N ogent is not surprising. In De virginitate, 11 Guibert implicitly \\ncriticizes the confusions and inconsistencies in the alleged correspondence \\nof Jesus andAbgar, an apocryphal epistolary exchange included in Eusebius \\nof Caesara\\'s Ecclesiastical History, and which enjoyed immense independent \\ncirculation in late-antique and medieval culture, and was even said to have \\nan apotropaic function.12 \\nIn part, Guibert\\'s discomfort with the contradictions of such epistolary \\ndocuments is a register of our O\\\\Vn uneasiness with the whole tradition of \\nfictional letters in the Middle Ages forming a context for the most popular \\nletter of them all, the Letter of Prester John. This tradition includes, in addition \\nto the fictional epistles I have briefly mentioned, wonder-letters such as the \\nletter of Pharasmanes (or Fermes) to Hadrian,13 the letter of Premo to \\nTrajan, 14 the Collatio Alexandri cum Dindimo per litteras Jacta, 15 the letters of \\n_ Alexander to his mother Olympias, 16 and the letter in Sindbad\\'s sixth -----•------ ------------------\\nTHE MARVEL AND THE LIST 107 \\nvoyage.17What I have labeled an \"uneasiness\" with such wonder-documents \\nissues from the interpretative challenges posed by their\"grotesque actuality,\"18 \\nthat is, as Mary Campbell has characterized them, their images ofhybridity, \\ninversion, disorder, and the paratactic organization of these same images-all \\nof which subvert critical taxonomy. But, as Campbell shows, even such \\ngrotesque actuality can be tamed by allegorization or organized by science. \\nWonder-letters, like the monster and Marvels of the East traditions I \\ndiscussed in chapter 1, structure a rhythm oscillating between the symbolic \\nor allegorical and the actual or phenomenal. Guibert ofNogent, it seems, \\ndid not tolerate the simultaneous presence of the symbolic and the histori\\xad\\ncal in the letters of Jesus and Abgar, so he reinterpreted them, confidently \\ndismissing their historical reality and symbolic meaning. \\nIf the central problem-for Guibert, for medieval as well as modern \\nreaders-posed by such letters is the relation or comparison between two \\nrealities, then does it matter if this dyad is synthesized, this conflict resolved? \\nI would suggest, with Campbell, that it matters little. \"The point,\" as she \\nputs it, \"is only that we are here confronted with an ontological order \\nsomewhere between the symbolic and the actual-a level of reality that \\nresolves the confusion we began with.We might call it \\'minimum reality,\\' an \\norder in which [realities] can be conceived that exist only for the uses\\xad\\npsychological, theological, material-to which others can put them.\"19 So, \\nfor example, Alexander\\'s epistolary exchanges with Dindimus, king of the \\nGymnosophistae or Brahmans oflndia, contrasting the nefarious, material\\xad\\nistic civilization of the Greeks with the simple, ascetic lives of the Indian \\nsages-letters either of Cynic origin or a response to Alexander\\'s Cynic \\nopponents20-served later purposes of extolling Christian asceticism, while \\nalways pointing out, as such Renaissance images of the \"noble savage\" did, \\nthe shortcomings of contemporary West~rn society and belief structures. To \\nput the matter simply, the Brahmans existed only for the ideological uses to \\nwhich the West put them. They must be actual only as the material or imag\\xad\\nistic vehicles for a specific ideology; they have historical reality insofar as \\nthey have symbolic or representative value. \\nGiven this double structure of responses to the wonder-letters, as \\ndepositories of local wonders and of generalized truths, the uneasiness \\ntoward such documents is perhaps only disguised pleasure, a special kind of \\nenjoyment in the ways that reality per se seems to give way to impressions \\nof reality. That is, wonder-letters invoke two kinds of reader expectations: \\nthose associated with fiction and those with realism. While, as categories, \\nthese genres and the \"horizon of expectations\" they construct do not \\ninform the medieval reader\\'s understanding and recognition of narrative \\nstructures, they nevertheless structure the methods by which a reader \\nprocessed information conveyed by these documents of alterity. The 108 ECSTATIC TRANSFORMATION \\nconventions of fictional letters, which as I have suggested share the generic \\ntrait of positing an alternative, often superior, world or worldview, issue in \\nwhat I will call \"allegorical pleasure\": \\nWe settle into a distinct mode of engagement in which the fictional game \\ncalling for the suspension of disbelief (\"I know this is a fiction, but I will \\nbelieve it all the same,\" a continual oscillation between \"Yes, this is true,\" and \\n\"No, it is not\") transforms into the activation of belief (\"This is how the \\nworld is, but still, it could be otherwise\"). Our oscillation now swings between \\na recognition of historical reality and the recognition of an argument about it.21 \\nIn reco=izino- that what matters is not historical reality but our impression \"\\' \"\\' of it, we arrive at the possibility of transforming that historical reality into \\nsomething else, something other. The oscillations underwriting any encounter \\nwith otherness become productive only when local acknowledgments of \\nhow the world is, or appears to be, become global configurations of a society \\ntransformed. Allegorical pleasure is delight in the possibility of a future \\ntransformed and in the process of transformation itself (precisely in the \\nprocess of\"speaking in other terms\" [Gr. allegorein]). Nowhere is this pleasure \\nstronger than in utopic documents such as the Letter ef Prester John. \\nFictional letters illustrate perhaps more transparently than other \\nnarrative structures the mechanisms by which reality is set against and \\ntransformed into its other. \"The essence of the epistolary genre,\" writes \\nGiles Constable, \"both in Antiquity and the Middle Ages, was not whether \\na letter was actually sent but whether it performed a representative function.\"22 \\nThe reality of the letter-its origin, destination, and factual content-was \\nsecondary to the performative role it played, to its representational function \\nas process or act. This subordination of the constative to the performative \\nhas far-reaching implications for the ways that the Real is configured in \\nsuch letters. For if, to follow Fredric Jameson, \\nwe try to accustom ourselves to thinking of the narrative text as a process \\nwhereby something is done to the Real, whereby operations are performed \\non it and it is one way or another \"managed\" (Norman Holland) or indeed \\n\"neutralized;\\' or under other circumstances articulated and brought to height\\xad\\nened consciousness, then clearly we will have to begin to think of the Real, \\nnot as something outside of the work, of which the latter stands as an image \\nor makes a representation, but rather as something borne within and vehicu\\xad\\nlated by the text itself, interiorized in its very fabric in order to provide the \\nstuff and the raw material on which the textual operation must work.23 \\nLetters offer an understanding of reality only as something acted upon by \\nepistolary constraints, as something manipulated by the continual flux of THE MARVEL AND THE LIST 109 \\nsameness and otherness, presence and absence, that creates the space for \\nmanaging or neutralizing the Real. In the gap that the letter opens up \\nbetween two realities, the letter acquires its force as a mediator and trans\\xad\\nformer of the Real. Such mediation and transformation take place across a \\nfield of dialogue, space linking two interlocutors. Antique and medieval \\ntheories of the epistolary genre invariably regarded the letter as one-half of \\na complete dialogue, enacting an ersatz encounter or speech between \\nsender and addressee. Ambrose, for example, claimed that \"the epistolary \\ngenre [genus] was devised in order that someone may speak to us when we \\nare absent.\"24 The letter was thought of as a presence before--in both the \\ntemporal and spatial senses, to proceed and in front of or facing-an \\nabsence. Similarly, medieval masters of ars dictaminis defined the letter as \\n\"sermo absentium quasi inter presentes\" and \"acsi ore ad os et presens.\"25 \\nThis concept of the letter as \"sermo absentium\" [absent conversation] \\naffirmed the impossibility of unifying, either temporally or spatially, two dis\\xad\\nparate world(view)s, but nonetheless suppressed the disruption of distance. \\nThe concept guarantees the duality of presence and distance: if the letter is \\nmeant to be a presence facing an absence, a deferred presence, then certainly \\nthe opposite, too, obtains, where the letter is only an absence (or, more prop\\xad\\nerly, the marker of absence) for a presence (the reader or addressee). \\nThe effect created by this quasi dialogue affirming simultaneous \\npresence and absence is never wholly a source of confusion or of a break\\xad\\ndown in communication. Instead, the irony of coming into the presence of \\nthe other in order to certify difference or absence seems, to judge by the \\ncentrality of the so-called arrival scene in traditional ethnographic repre\\xad\\nsentations, in fact to offer an impression of authenticity and unity.26 Literal \\narrival scenes-for example, Marco Polo at the court of the great Khan or, \\nfor that matter, anthropologist Raymond Firth in Polynesia-establish the \\ntrustworthiness or truth-value of the observer\\'s descriptio on the premise of \\n\"You are there because I was there.\"27 Proximity to and dialogue with the \\nother, living in the midst of the exotic and participating in alien cultures, \\nmake unity imaginable, while, as this passage from the Cotton version of \\nMandeville\\'s Travels underscores, always rendering such engagements deeply \\nproblematic. \\nAnd all be it pat sum men wil not trow me, but holden it for fable to tellen \\nhem the no bless of his persone & of his estate & of his court & of the gret \\nmultytude of folk pat he holt, natheles I schall seye 3ou A partye of him & his \\nfolk, after pat I haue seen the manere & the ordynance full many a tyme.And \\nwhoso pat wole may leve me 3if he will, And whoso will not may leue also. \\nFor I wot wel 3if ony man hath ben in tho contrees be 3onde, pough he haue \\nnot ben in the place where the grete Chane duelleth, he schall here speke of 110 ECSTATIC TRANSFORMATION \\nhim so meche merueylouse thing, that he schall not trowe it lightly; And \\ntreuly no more did I myself til I saugh it.And po pat han ben in po contrees \\n& in the gret Canes houshold knowen wel pat I seye soth.And perfore I will \\nnot spare for hem that knowe not ne beleue not but pat pei seen for to tell \\nyou a partie of him & of his estate that he holt whan he goth from contree \\nto contree & whan he maketh solempne festes.28 \\nAn anxiety subtends Mandeville\\'s personal report of the Great Khan\\'s \\ncourt, a sense that the subjectivity demanded of eye-witness reporting \\nimpairs the material realities of encounter itself.29 Mandeville\\'s drive to \\ncreate an impression that he was really there and that his words are to be \\ntrusted predictably meets the skepticism of those who were not really there. \\nMandeville\\'s suspicion that some of his readers will have chosen not to \\nsuspend their disbelief issues from his awareness that a fuller, subjective \\naccount of the \"practices of everyday life\" is missing from his narrative. Lost \\nin the gaps between the grand items on lists of subjects to be described \\n(\"the nobless of[the gret Canes] persone & ofhis estate & ofhis court & of \\nthe gret multytude of folk that he holt\"; \"his estate that he holt whan he \\naoth from contree to contree & whan he maketh solempne festes\") is the \\n\"\\' webbing of subjective experience, \"spoken from a moving position already \\nwithin or down in the middle of things, looking and being looked at, \\ntalking and being talked at.\"30 As participant-observer-as traveler par \\nexcellence--Mandeville is ineluctably suspended between two relations \\ntoward the otherness he wishes to describe: interactive subjectivity (\"this is \\nthe way things were because I was present\") and detached objectivity (\"this \\nis the way things are regardless of my presence\"). The gap between these two \\nspeech positions, obviously as much temporal as it is spatial, again brings \\nbefore us the duality of presence and absence underlying discourse on \\notherness. \\nBut the more basic point is that Mandeville really does care if he is \\nbelieved or not, or more precisely, if his readers \"holden it for fable\" all the \\nwonders he has reported. Mandeville\\'s concern is not whether readers \\nfinally believe he is the traveler he claims, but whether they believe that all \\nthese points of travel may actually exist, that this itinerary of marvels is a \\npossible one. Now subjectivity can give way to objectivity; in fact it must if \\nreaders are to transform their suspension of disbelief into active belief, if \\nreaders are to grasp \"the utopian moment oftravel:\\'This moment arises, as \\nStephen Greenblatt puts it so nicely, \"when you realize that what seems \\nmost unattainably marvelous, most desirable, is what you almost already \\nhave, what you could have--if you could only strip away the banality and \\ncorruption of the everyday-at home.\"31 The authorial desire to be believed \\nin this special way seems to lie at the heart of medieval mirabilia-texts. For if THE MARVEL AND THE LIST 111 \\ncritical opinions of Mandeville, past or present, are limited to labeling him \\na \"steady liar\" writing in \"brazen bad faith,\"32 then dialogue with his readers \\nfails: why should the reader continue to absorb the information contained \\nin the lists and series of marvels, contemplate their meaning, believe in their \\nutopic possibilities? After all, a medieval reader with access to Odoric of \\nPordenone\\'s Itinerarius, the Alexander romances, the Letter of Prester John, or \\nVincent of Beauvais\\'s Speculum historiale!naturale could readily satisfy his \\nthirst for mirabilia by turning to these texts, Mandeville\\'s own source mate\\xad\\nrial. The existence of codices such as the deluxe late-fourteenth-century \\nLivre des Merveilles (Bibliotheque Nationale MS franpis 2810), containing a \\nvast assortment of mirabilia-texts including the Travels, the Livre de l\\'estat du \\ngrant Caan of Jean de Cori, and half a dozen other sources Mandeville \\nplagiarized, 33 suggests finally that, as Alan Gaylord writes, \"the medieval \\nreader entertained a somewhat different opinion on the question of truth\\xad\\nclaims.\"34 A medieval reader expected something different when he encoun\\xad\\ntered the volatile mixture of common and arcane knowledge, traces of \\nhalf-true and misunderstood phenomena, verifiable facts and pure myth. \\nHe expected to have his curiosity held, his fascination suspended in the \\nfluctuating rhythms of familiarity and strangeness, and, through these, his \\nworld transformed. \\nKnowing Strangeness: Marvels and Lists \\nThat such codices and Mandeville\\'s own book conveniently packaged \\nstrange marvels for a perennially curious readership does itself little to \\nexplain the immense popularity of these texts. Instead, their appeal resides \\nin the way these mirabilia-texts structure a _captivating oscillation between \\nsubjectivity and objectivity, control and estrangement, holding reading interest \\nwithin a structured paradox: \\nWe want to know and yet not know completely. We seek to make the strange \\nknown, or, more precisely, to know strangeness. We want to know it but know \\nit as strangeness as such, to know that by being beheld as strange, it continues \\nto elude full comprehension. The motivating force of curiosity persists, \\nconserving the strangeness of what we seek to knovv.35 \\nMandeville\\'s book thus shares with wonder-letters a tendency to list \\nmarvels, to compile or enumerate, through detached objectivity, individual \\nwonders whose aggregate effect is that of a desire for more. For the reader, \\nthe enjoyment of imaginatively extending the list, or having it extended for \\nhim or her, comes at the expense of relating to the subjective experience \\nthat organized those marvels into a list in the first place. Mandeville\\'s appeal 112 ECSTATIC TRANSFORMATION \\nderives, then, more from his self-effacing function as a transmitter of the \\nrichness of alien culture than from his role as traveler fashioning a narrative \\nout of his personal experiences. Yet, as we saw, Mandeville\\'s attempt to \\nmitigate some of the anguish of this contradiction surfaces in moments of \\nself-reflexive speculation on the truth-claims of his narrative, when he inserts \\ninto the wonder-descriptions his reflections on the authority of subjective \\nexperience out of which the wonders are generated. \\nSuch self-reflections on the project of enumerating wonders are not \\nuncommon in the medieval literatures of mirabilia, an encyclopedic tradition \\nheavily indebted to Pliny\\'s Naturalis Historia, especially to its seventh book \\ncontaining an account of Eastern marvels, which is in fact the longest of \\nextant wonder-lists.36 In this book, Pliny prefaces his list with an admission \\nthat, in treating the world in its parts (e.g., \"gentes, maria, flumina insignia, \\ninsulae, urbes\"), specifying the nature of animals alone is beyond the capac\\xad\\nity of the human mind: \"Animantium in eodem natura nullius prope partis \\ncontemplatione minor est, etsi ne hie quidem omnia exsequi humanus \\nanimus queat\" (7.1.1). But it is the almost infinite diversity of humanity-its \\ninnumerable races and customs-that especially defies specification. So Pliny \\nopts not to describe all races and nations, instead just those marvelous ones \\nfar from the Mediterranean basin, in the wondrous East: \\nNeque enim ritus moresque nunc tractabimus innumeros ac totidem paene \\nquot sunt coetus hominum; quaedam tamen haud omittenda duco, maximeque \\nlongius ab mari degentium, in quibus prodigiosa aliqua et incredibilia multis \\nvisum iri haud dubito. quis enim Aethiopas antequam cerneret credidit? aut \\nquid non miraculo est cum primum in notitiam venit? quam multa fieri non \\nposse priusquam sunt facta iudicantur? naturae vero rerum vis atque maiestas \\nin omnibus momentis fide caret si quis modo partes eius ac non totam \\ncomplectatur animo. (7.1.6-7) \\n[Nor will we now deal with manners and customs which are beyond counting \\nand almost as numerous as the groups of mankind; yet there are some that I \\nthink ought not to be omitted, and especially those living more remote from \\nthe sea; some things among which I do not doubt will appear too portentous \\nand incredible to many. For whoever believed in the Ethiopians before seeing \\nthem? Or what is not deemed miraculous when first it comes into knowl\\xad\\nedge? How many things are judged impossible before they actually occur? \\nIndeed the power and majesty of all natural things at every turn lack credence \\nif one\\'s mind embraces only parts of it and not the whole.] \\nLike Mandeville, Pliny asserts that seeing involves knowing, that the shock \\nof the extraordinary can be overcome, at least momentarily, by knowledge. \\nThese phenomena, seeming to many \"prodigiosa\" and \"incredibilia,\" Pliny \\nsuggests, are not fully credible in their individuality, but only as parts of a THE MARVEL AND THE LIST 113 \\nsublime whole. Only by contemplating nature as a totality can the observer \\nappreciate its awesome variety, its power and majesty. This knowledge of a \\ngreater whole overcomes the t<L\\'Conomic problems posed by encountering \\nand attempting to delimit what is infinitely multiple. It prevents intellectual \\nastonishment by organizing an unusual perceptual wealth into a list that \\ndemands a dual focus on the local bits of fact (res) and on their general \\nmeaning. The single marvel is contemplated for a fleeting moment in a state \\nof detachment and dis-order before it is concatenated and systematized. \\nBut even thus concatenated and systematized, the marvel bears a residue \\nof disorder, excess, and mobility, a resistance to the containing and restrain\\xad\\ning pressures of the list or the catalogue.37 No list or catalogue can fully \\ncontain the multiplicity of what only temporarily appears organized and \\nuniform. And so the Letter of Prester John, a text whose structure depends \\nupon the compilation of lists and catalogues, ends, in nearly all versions, \\nwith an impossible challenge to the reader: \"If you can count the stars in \\nheaven and the sand of the sea, then you can calculate the extent of our \\nkingdom and our power\" (§100).The reader, having digested a great deal of \\ninformation, in discrete sections, about the East and its magnificent ruler, \\narrives at the text\\'s end liberated, rather than stymied, by lack of closure. \\nStructurally \"at once accretive and discontinuous,\"38 the flexible forms of \\nthe list and of the catalogues themselves gesture metonymically toward \\nplenitude and the impossibility of final enumeration and measure. Thus \\nwhat appears in reality uniform and continuous-stars in the heaven and \\nsand of the sea-is formally open-ended, discontinuous, infinite. By admit\\xad\\nting the incapacity of the informational list (and its human creators) to be \\ncomprehensive, the Letter ends figuratively where Pliny begins his wonder\\xad\\nlist of book 7: \"ne. _ .quidem omnia exsequi humanus animus queat\" [the \\nhuman mind is not capable of exploring the whole field]. \\nYet the list\\'s intrinsic failure to be comprehensive, its gesture toward the \\ninfinite, accounted, perhaps paradoxically, for its didactic narrative function \\nand its strong appeal to the medieval imagination. Thus, as Nicholas Howe \\nnotes, in the Middle Ages \"the catalogue could be used for a variety of \\nencyclopedic and poetic purposes because it corresponds to a certain vision \\nof experience, or pattern of thought, which values plenitude and diver\\xad\\nsity.\"39 At once poetic and encyclopedic, the Letter of Prester John expresses \\nnotions of plenitude and diversity in long paratactic lists like this one: \\n14. In terra nostra oriuntur et nutriuntur elephantes, dromedarii, cameli, \\nypotami, cocodrilli, methagallinari, cametheternis, thinsiretae, pantherae, \\nonagri, leones albi et rubei, ursi albi, merulae albae, cicades mutae, grifones, \\ntigres, lamiae, hienae, boves agrestes, sagittarii, homines agrestes, homines \\ncornuti, fauni, satiri et mulieres eiusdem generis, pigmei, cenocephali, 114 ECSTATIC TRANSFORMATION \\ngygantes, quorum altitudo est quadraginta cubitorum, monoculi, cyclopes et \\navis, quae vocatur fenix, et fere ornne genus animalium quae sub caelo sunt. \\n[14. In our country are born and thrive elephants, dromedaries, camels, \\nhippopotarni, crocodiles, methagallinarii, cametheternis, thinsiretae, panthers, \\naurochs, white and red lions, white bears, white merlins, silent cicadas, griffins, \\ntigers, larnias, hyenas, wild oxen, archers, wild men, horned men, fauns, satyrs \\nand women of the same kind, pigmies, dog-headed men, giants whose height \\nis forty cubits, one-eyed men, cyclopes, and a bird, which is called the \\nphoenix, and almost all kinds of animals that are under heaven.] \\nThis list itself figures, on a microsyntagmatic level, the larger structure of \\nparataxis informing the entire Letter.That is,just as the individual lists in the \\nLetter are composed of fragmentary knowledge, of bits of data lacking causal \\nrelations to one another and organized into a series based above all upon a \\nprinciple of accumulation, the whole work seems to lack organizing prin\\xad\\nciples that logically coordinate and subordinate blocks of meaning and of \\ndescription. For example, the wonder-list just cited is preceded directly by \\nthe declaration that \"Seventy-two provinces serve us, of which a few are \\nChristian, and each one of them has its own king, who all are our tribu\\xad\\ntaries\" (§13), and followed immediately, in the original version, by a biblical \\nallusion affirming that \"Our land flows with honey and abounds with milk\" \\n(§21). Taken together, these three blocks of information present the reader \\nwith some striking incongruities. The reader might wonder what the mun\\xad\\ndane political organization of Prester John\\'s realm has to do with fantastic \\ncreatures and marvelous beasts, over whom presumably no political control \\nis exercised. Or, in what way satyrs, horned men, cyclopes, and pigmies fit \\nwith the notion of biblical paradise. Even the items of the lists themselves \\nseem mysteriously incongruous. What, for instance, is the relation of silent \\ncicadas-probably a churchman\\'s fantasy of a noiseless local environment40-\\nto griffins, those disruptive, outre beasts of prey? \\nSearching for answers to questions such as these may be, finally, a more \\nmodern occupation than a medieval one. Medieval readers, faced with such \\na writerly text, wliich requires, Martin Gosman argues, \"de la part du \\ndestinataire un effort cl\\' assimilation considerable\" [a considerable effort at \\nassimilation on the part of the addressee],41 would not have been bothered \\nby the ways in which ideals of organic form are vitiated or by the ways in \\nwhich common sense is violated. The reception of the Letter ef Prester John \\nwas governed neither by post-romantic assumptions concerning the \\nintegrity and unity of the work as a whole nor by expectations of any strict \\ncorrespondence between what is described or enumerated and the known \\nworld.42 Instead-and here as elsewhere I part company with those who, \\nlike Gosman, read the Letter in dogmatically allegorical terms-readers THE MARVEL AND THE LIST 115 \\nexpected and delighted in shocks of discontinuity and fragmentation, in the \\nclash of form and disorder, in the copresence of the far-fetched and the \\nbelievable, in the mixture of the exotic and the ordinary. \\nI am not claiming for the Letter postmodern aesthetic sensibilities, but \\nemphasizing here the extent to which the experience of marvels, as medi\\xad\\nated especially through lists or catalogues, necessarily o.scillates between \\nmystery and knowledge. Lists organize and position the marvel, rendering \\nit a discrete object of knowledge embedded in a series of such objects, \\nwhile simultaneously defamiliarizing it, placing the marvel in a mysterious \\nrelation to (its) others. In the absence of o-rammatical and loo-ical placement 0 0 \\' \\nthe marvel floats autonomously, unrestrained by the \"open work\"43 orga-\\nnizing it. Eco\\'s idea of the open work, an open-ended narrative inviting the \\ninterpretation of its reader and thus presupposing cooperation between \\nauthor and reader, was in fact first applied to Prester John by Gosman, who \\nargued that the Letter\\'s organizing principle is above all theological: \\nCe qui filtre cependant a travers la succession des anecdotes independantes, \\nc\\' est le profil d\\'une systematique qui garantit une autre existence, plus \\nautoritaire, plus ecclesiastique, plus conforme a une volonte divine. Du \\nmoins, c\\'est ce que suggere !\\'information partielle, plus evocatrice que la \\npresentation exhaustive .... Son ecriture evasive et partielle actionne le \\ndispositif d\\'une fantaisie, celle d\\'une societe a la recherche de ce que l\\'on \\npourrait qualifier de \"bonheur.\"44 \\n[What filters, however, through the succession of the anecdotes is the profile \\nof a systematique guaranteeing another existence, one more authoritative, \\necclesiastical, in conformity with a divine will. At least it is what suggests \\npartial information, more evocative than the exhaustive presentation ... .Its \\nevasive and partial writing actuates the device .of an imagination, that of a \\nsociety in search of what one could describe as \"happiness.\"] \\nGosman contends that the fragmentary nature of the Letter gestures toward \\nits final utopian significance, inviting the reader to recognize, and indeed to \\ncoconstruct, a\" \\'bonheur\\' terrestre\" [earthly happiness].45 As propaganda, \\nthe Letter functions just as an exemplum does, prescribing rather than describ\\xad\\ning an alternative reality. Disorder, incompleteness, and fantasy give way \\nto the coherent hierarchy of divine will. Now the marvelous is reduced to \\nan attractive husk for the kernel of religious meaning: \"l\\' exotisme est .. .la \\ncouverture onirique de la delectatio: l~ message doit etre presente clans un \\nemballage attractif\" [exoticism is a dreamlike cover for the delectatio: the \\nmeaning must be presented in an attractive wrapping].46Yet the marvelous \\nhusk is more than ornamental packaging, more than a briefly entertaining \\nobstacle to transcendental meaning. It is, as we will see in a later section 116 ECSTATIC TRANSFORMATION \\non \"the moving image,\" instrumental in the formation of ideological \\nrepresentations of the social world and in the creation of\"possible worlds\" \\nthat offer models for moral and political change. \\nIn Gosman\\'s reading, the incongruities inherent in the marvelous are \\nsealed up and the openness of the text itself closed down by the quiescence \\nof \"bonheur terrestre.\" For Gosman, the letter\\'s fragmented structure, \\ntroubling its reader with disorder and metonymy, implies, on an ethico\\xad\\npolitical level, its opposite--harmony and final meaning. Utopia, in this \\nview, emerges only at a moment of resolution and stability, at a moment \\nwhen the harmony of the temporal and spiritual erases any residue or \\nreminders of what Otto of Freising, referring to the historical moment of \\nthe Letter, called turbulentia malorum. Since utopia is always external to the \\nlived, this \"confusion of bad things\" must yield to the assurance of an \\nexterior stability-removed both spatially and temporally. In the outside \\nutopia, the dynamic multiplicity of living becomes an inert singularity. The \\nLetter thus leaves its reader in a kind of moribund state, in a \"happiness\" \\nconditioned by rigid didacticism. \\nBetween Two Worlds: The Pleasures of Utopia \\nYet surely this is a singular kind of happiness, a joy which finally may not be \\nall that joyful. In his essay on the oneiric value oflndia for medieval Latinity, \\nJacques Le Goff identifies \"two opposing mentalities and sensibilities\" at the \\nheart of medieval conceptions of the exotic. As a repository for the oneiric \\nprojections of the medieval West, India became the site of conflicting desires, \\na magical space where the domesticating project of allegory confronted the \\nshock or resistance of ambiguously coded marvels. At once attractive and \\nrepellent, these marvels play against their allegorical domestication. Though \\nLe Goff seems much more interested in the tension of desire and fear mark\\xad\\ning marvels themselves than in the actual tension between tendencies to alle\\xad\\ngorize and tendencies to shock, he does point to the dampening effects of \\nmoralization on what might be called \"bonheur monstre\": \\nTailored for instructional use, the India thus moralized might still inspire \\ndesire or fear, but it was primarily sad and saddening. The lovely substances \\nare now mere allegorical baubles, and the poor monsters, created for edifica\\xad\\ntion, as well as the unfortunate race of wicked men with large lower lips who \\nrank just above the monsters in the scheme of things, all seem to repeat the \\nverse in Psalm 140 that they personify: \\'malitia labiorum eorum obruat eos.\\' \\nTristes tropiques ... .\\'\\'47 \\nTi·istes tropiques: Le Goff\\'s point here, I would emphasize, is too often \\nignored in approaches-both medieval and modern-to the ideological THE MARVEL AND THE LIST 117 \\nvalue of utopic representations. Totalized and homogenized in the theater of \\nWestern projections, multiple wonders are stripped of their temporality, to \\nbecome timeless signifiers of difference. The transformation of monsters \\ninto endlessly repeatable signs of the moral, even physical, degeneration of \\nmankind-one thinks of the tympana ofVezelay and other churches\\xad\\nenforces a kind of forgetfulness, a refusal to acknowledge the very difference \\nthat the monster itself marks. In other words, in utopic representation of \\nan allegorical type, the radical differences of wonders are always repressed \\nso that their universal and timeless value can emerge.48 If utopia is to be \\nrepresented, the singularity of creatures with gigantic lower lips must be \\nforgotten, in fact, it must not even be represented except as the insistent \\nmarker of a non-memory. Utopic representation thus works negatively \\nto produce a striking sense of loss, a sadness contaminating from within \\nwhat Louis Marin calls utopia\\'s \"permanent instant of happiness.\" \"Now;\\' \\nMarin writes, \"we can understand the despair that accompanies all utopic \\nrepresentations: the instant of prediction, the moment of good news and \\ntime outside of the time of pure difference is broadcast in the time of \\nmourning. We know ahead of time that we can only forget what we mean \\nwhen saying it.\"49 \\nMedieval Christianity is in a profound sense predicated upon the \\nmournful loss inherent in utopic representation, the constant reminder of \\nwhich was of course the drama of the Fall. Lost was Paradise, like Prester \\nJohn\\'s kingdom \"a very sweet place in the East\" (Honorius ofAutun50), and \\nwith it harmony (especially living in accordance with nature51), commu\\xad\\nnity, homogeneity. Significantly, after the Fall the supernatural becomes \\ndiscontinuous with the human; in fact, mankind,Augustine tells us, contin\\xad\\nues to degenerate from its original marvelous condition of giant stature and \\nsuper-longevity to one of moribund squatness. 52 Only after the Fall can \\nwhat is marvelous be properly distinguished from what is natural since the \\nfluid relation of the sacred and profane has been disrupted by an awareness \\nthat wonder events or objects, such as miracles or relics, now stand out \\narrestingly against the backdrop of ordinary reality.53 That is, no longer are \\nwondrous events, marvels, or miracles part of the order of the phenomenal \\nbut have become instead extra-ordinary entities whose significance is \\nalways left open to interpretation.54 Miracles, for example, are, according to \\nAquinas, \"those things which God does outside those causes which we \\nknow.\"55 However, because the causes, and thus the final meanings, of \\nmiracles or other wonders remain hidden, efforts beginning in the twelfth \\ncentury strenuously to divide the world into, say, the natural and the super\\xad\\nnatural, actually open up spaces for interpretation by reinvesting the \\nwonders with their original ambiguity. Either the wonder is regarded as \\nsomething radically other, \"irrelevant to most occasions of. .. normal 118 ECSTATIC TRANSFORMATION \\nexistence[,] or as positively crushing,\" something onerously proximate. \\n\"Hence,\" argues Peter Brown, \"the paradox of the development of Christian \\nsociety in the West in the eleventh and twelfth centuries.\"56 \\nThis paradox, embodying a fundamental contradiction in the way special \\nkinds of otherness were experienced in the Middle Ages, is central to the \\nideology of genre in Prester John. For if utopia, understood in its allegori\\xad\\ncal function, works to suspend differences, then the illusion of coherence, \\noffered by the differentness up against which identity is defined and main\\xad\\ntained, is lost. That loss must be mourned, either privately or communally, \\nfor it implies a forfeit of some essential element of the self.57 Such mourn\\xad\\ning, the psychoanalytic literature insists, crucially builds upon melancholy. \\nThat is, melancholic incorporation of the desired object into the self, which \\noccurs, Freud assures us, with loss, is the necessary precondition58 for active, \\noutward desire--here, either for a prelapsarian world (Prester John\\'s king\\xad\\ndom as Paradise) or for a monstrous, hybrid world (Prester John\\'s kingdom \\nas marvelous place). To desire--or to live--utopia, that imaginary field of \\notherness in which are invested both hopes and fears, means to engage in a \\nprocess of mourning that necessarily begins with an intensely ambivalent \\nidentification with the lost or absent object. Indeed, melancholy; as Judith \\nButler describes it, arises when an individual or society \"refuses the loss of \\nthe object, and internalization becomes a strategy of magically resuscitating \\nthe lost object, not only because the loss is painful, but because the ambiva\\xad\\nlence felt toward the object requires that the object be retained until differ\\xad\\nences are settled.\"59 The paradox for the development of twelfth-century \\nChristian society in the West might be said, then, to reside not only in the \\ndilemma between repressing alterity (forgetting) and being impressed by it \\n(remembrance), but precisely in the problems posed by the \"settling of \\ndifferences\" internal and external to society. That utopia was the genre used \\nto settle differences provisionally is, as I have suggested thus far, tied to the \\nformal structures of the letter and list and to their capacity to manage \\nworldly chaos by creating and maintaining spaces between sameness and \\notherness, by positing gaps from which the expression of a possible world \\ncan emerge. \\nHere it is important to remark that utopias often prolong indefinitely \\nany real settling of differences. Performing the cultural work of mourning, \\nutopias seem to be instances of extended melancholia since the dialectical \\nrelation to otherness they promote is particularly unstable, always shifting \\nfrom one pole to another, from self to non-self. The questions posed by the \\nexistence ~f Prester John are thus always versions of the same one: What \\nis the nature of the ambivalent identification with this realm which is at \\nonce familiar and strange, a self-projection and an alien site? Despite what \\nappears in the twelfth century as a need to maintain as firm a demarcation THE MARVEL AND THE LIST 119 \\nbetween self and other as possible, the constant oscillation of the familiar \\nand the alien was effected across a field of perpetual desire, the insistent wish \\nto bring the two together. Thus, for example, a pattern appears in the Letter: \\nwhat was lost once gets figured as that which is desired forever. Consider \\nthe description of Prester John\\'s fountain of youth: \\n27. Quod nemus est ad radicem mantis Olimpi, uncle fons perspicuus oritur, \\nomnium in se specierum saporem retinens.Variatur autem sapor per singulas \\nhoras diei et noctis, et progreditur itinere dierum trium non longe a \\nparadyso, uncle Adam fuit expulsus. 28. Si quis de fonte illo ter ieiunus \\ngustaverit, nullum ex ilia die infirmitatem patietur, semperque erit quasi in \\naetate XXX duorum annorum, quamdiu vixerit. \\n[27. This grove [where, the Letter has just informed us, pepper is harvested] is \\nsituated at the foot of Mount Olympus, from where a clear spring issues, \\ncontaining all kinds of pleasant tastes. The taste, however, varies each hour of \\nthe day and night, and flows out by a waterway for three days, not far from \\nParadise, from where Adam was expelled. 28. If someone who has fasted \\nfor three days tastes of this spring, he will suffer no infirmity from that day \\non, and will always be as if he were thirty-two years old, however long he \\nmay live.] \\nHere two desires flow together: the desire for a paradise regained and the \\ndesire to experience that paradise permanently. However, as the passage \\nstresses, desire for utopia-literally, the taste for paradise--varies with the \\nshifting elements, and may actually disappear (progredior, to go out, go away). \\nRecovering the paradise that has slipped away or been forcibly taken away, \\nas in Adam\\'s case, becomes the melancholy enterprise of the utopian who \\nmust continually confront the fragility of his own utopia. Only by acknowl\\xad\\nedging and working through the intrinsic changeability or motility of \\nutopia can the utopian hope to gain a perennial condition of happiness and \\nwell-being. Yet this acknowledgment and working through express them\\xad\\nselves paradoxically as sublimated desire, asceticism undertaken as a strategy \\nof gratification. 60 Having no taste for utopia is the precondition of tasting it \\nforever, just as recognizing one\\'s powerlessness to preserve utopia is the \\nprecondition of being empowered by it. \\nIn the Letter this tension of desire and its sublimation assumes the shape \\nof a dynamic, often rhythmical oscillation between the poles of conserva\\xad\\ntion and loss, achievement and interdiction. Pleasures and desires fulfilled \\nare lived through rather than arrived at. Never entirely achieved or lost, the \\nallegorical pleasures of Prester John\\'s utopia constitute less a final \"bonheur \\nterrestre\" and more a passageway to composing, and confronting, the \\nproblem of their own allegoricity. The utopian is never wholly within or 120 ECSTATIC TRANSFORMATION \\nwithout (both outside of and lacking) a kind of earthly happiness and \\nsatisfaction: \\n38. Iuxta desertum inter mantes inhabitabiles sub terra fluit rivulus quidam, \\nad quern non patet aditus nisi ex fortuito casu.Aperitur enim aliquando terra \\net si quis inde transit tune potest intrare et sub velocitate exire, ne forte terra \\nclaudatur. Et quicquit de harena rapit, lapides preciosi sunt et gemmae \\npreciosae, quia harena et sabulum nichil sunt nisi lapides preciosi et gemmae \\npreciosae. \\n[38. Near the desert between the uninhabited mountains a certain rivulet \\nflows beneath the earth, the entrance to which is not accessible except by \\nchance. Indeed, sometimes the ground opens up, and if someone at that \\nmoment crosses over from there, he is able to enter; but he must quickly get \\nout, ifby any chance the ground may close up.And whatever he snatches up \\nfrom the sand is precious stones and gems, for the sand and gravel are nothing \\nbut precious stones and gems.] \\nThe pleasures of utopia are risky and fleeting: quickly snatching up jewels, one \\nfaces entombment in the utopic space (within a utopic space) he has entered. \\nAccess to and attainment of utopic pleasure are not givens, but are determined \\nby chance and even by the extent of one\\'s greed and the ability to curb it. This \\nliminal space tests the limits of the utopian\\'s desire, measuring how much he \\nis willing to risk for a taste of utopia proffered now and again. \\nPerpetual desire for what is absent or lost propels Prester John\\'s utopia, car\\xad\\nrying it along on the rhythms of ritual. The anonymous De adventu patriarchae \\nIndorum ad Urbem sub Calixto papa secundo [On the arrival of the Patriarch of \\nthe Indians to Rome under Pope Calixtus II] of 1122, containing one of two \\ninfluential Western versions of the legend ofSt.Thomas\\'s shrine and the saint\\'s \\nmiracle-working hand,61 records an instance of this ritual dynamism whose \\nbasic elements provided source material for the descriptions of the saint\\'s \\nfestival in at least two Latin versions of the Letter (BN 6244A and the \\nHildesheim MS), several French versions, and the narrative of Elyseus \\n(1185).62 In De adventu the ritual festival of St. Thomas is regulated not only \\nby the church calendar, but also by the rhythm of natural events. The saint\\'s \\nfeast day (October 6) coincides with the lowering of the waters of a deep lake \\nencircling the mater ecclesia (mother church) to allow pilgrims access to the \\nsancta sandorum where they will receive the Eucharist administered by \\nSt. Thomas\\'s miraculously revivified right hand (the same that had probed \\nChrist\\'s wounds in the famous scene of doubt): \\n26. Paululum vero extra urbis moenia mons separatus est, profundissimi lacus \\naquis undique septus, ab aquis autem porrectus in altum, in cuius summitate \\nbeatissimi Thomae apostoli mater ecclesia posita constat. [ ... ] 28. Praedictus THE MARVEL AND THE LIST 121 \\nquidem mons, ubi Thomae apostoli sita est ecclesia, infra annum nulli \\nhominum accessibilis est, neque ilium adire aliquis temere audet, sed patriar\\xad\\ncha, quicumque fuerit, ad celebranda sacra mysteria locum et ecclesiam istam \\nnon nisi semel in anno cum circumquaque venientibus populis ingreditur. \\n29. Namque apostolicae festivitatis appropinquante die, octo diebus ante iliam \\ntotidemque post iliam, habundantia ilia aquarum montem praedictum circue\\xad\\nuntium ita tota decrescit, quod fere an ibi aqua fuerit non facile discernatur, \\nuncle ibi undique concursus fit populorum, fidelium ac infidelium, de longe \\nvenientium, atque omnium male habentium, languorum suorum remedia et \\ncuraciones beati Thomae apostoli meritis indubitanter e1\\'qiectancium. \\n[26.A short distance outside the walls of the city [Hulna] is a mountain, sur\\xad\\nrounded everywhere by the waters of the deepest lake, which extends in \\nheight out of the water, at the top of which stands the mother church of \\nSt. Thomas the Apostle. 28. During the year, the aforementioned mountain, \\nwhere the church of St. Thomas is located, is not accessible to anyone, nor \\nwould anyone without cause dare to approach, except the patriarch, whoever \\nhe may be, in order to celebrate the sacred mysteries, who enters the place \\nand the church with the people who gather from everywhere only once a \\nyear. 29. For, eight days before and after the approaching feast day, the level of \\nthe water surrounding the mountain so greatly diminishes that it is hard to \\ntell there was any water there at all; at this place there, people from every\\xad\\nwhere come together, believers and unbelievers, who have come from far \\naway, all infirm, confidently expecting remedy and cure, by the favor of the \\nblessed Apostle Thomas, for their weaknesses.] \\nTime and topography work together to restrict access to the locus sanctus by \\nensuring that a rhythm of permission and interdiction controls the o-reat t> \\nflow of pilgrims [maximus concursus populorum (§36)] wishing to visit the \\nsaint. The phenomenon of the fluctuating level of water temporarily open\\xad\\ning a dry passage functions, structurally, as a ritual element dramatizing the \\ninsularity of differentiated spaces, times, and identities and the possibility of \\nmovement between them. 63 Indeed, a pilgrim\\'s self-identity depends upon \\nthe outcome of his encounter with St. Thomas, whose hand closes and \\nwithdraws in the presence of an infidel, heretic, or sinner [infidelis vel \\nerroneus seu alia peccati macula infectus (§45)]. Since the unbeliever must either \\nrepent or die on the spot (§46), a great number, we are told, instantly \\nconvert to Christianity and are baptized (§4 7). In Elyseus\\'s account of the \\nwonders of St. Thomas\\'s feast day. terrible punishments are given out to \\nthose to whom the hand has closed, including imprisonment for up to fifty \\nyears and dismemberment by wild animals (§§20-21). As a test of identity, \\nthe festival of St. Thomas enframes a liminal period where identity in \\nrelation to utopia (here, the very specific one of a communitas of believers) is \\nprovisional, momentarily subject to radical change (conversion, death). This 122 ECSTATIC TRANSFORMATION \\nindeterminacy binds the pilgrim, even though he cannot imagine being \\ninside it, or what is perhaps more tragic, cannot pretend to have it. The truth \\nof the pilgrim\\'s identity is inescapable; there is, in short, no way out and no \\ngoing back. 64 Nevertheless, he remains transfixed in the interspace of ritual, \\nbetween choosing to be transformed and being obligated to do so, between \\nparticipating in utopia and being cast out of it, between being empowered \\nby it (receiving the Eucharist) and being tragically disempowered by it. \\nThus suspended, the pilgrim, that figure of transition from one state to \\nanother, one land to another, knows only the possibilities of transformation. \\nServing as an ideal metaphor for this state of the entre-deux is the coffin \\nof St. Thomas itself, simultaneous destination and point of origin of the \\npilgrim\\'s transformative experience. In the Elyseus narrative, the descrip\\xad\\ntion of the fluctuating river is immediately followed by the description of \\nthe apostle\\'s iron coffin, suspended between the magnetically charged walls \\nof a lodestone chamber: \\n1 [7]. Et cum festivitas apostoli advenerit, unusquisque praelatus cum populo \\nsibi commisso accedit ad supradictum fluvium. Idem fluvius per 8 dies ante \\nfestum deficit et 8 post festum. In defectione eiusdem fluvii omnes homines \\naccedunt ad apostolum, apostolus autem est in ecclesia eiusdem mantis, et est \\nin tumulo ferreo tumulatus; et tumulus ille manet in aere ex virtute 4 precioso\\xad\\nrum lapidum. 1[8]. Adamans vocatur, unus in pavimento positus, in tecto \\nsecundus, unus ab uno angulo tumuli, alius ab alio. Isto vero lapides diligunt \\nferrum: inferior non permittit ascendi, superior nondescendi, angulares non \\npermittunt eum ire hue vel illuc.Apostolus autem est in medio. \\n[1[7]. And when the feast day of the Apostle arrives, every prelate, with the \\npeople entrusted to him, approaches the aforementioned river. The river ebbs \\nfor eight days prior to the feast day and for eight days after. When the river \\nebbs, all of the people approach the apostle, who, residing in his church on \\nthe mountain, is entombed in an iron coffin. The coffin hovers in the air by \\nthe power of four precious stones. 1 [8]. Known as lodestone, one is situated \\nin the floor, a second in the ceiling, another at an angle to the coffin, and \\nanother at another angle. The stones attract the iron: the lower prevents it \\nfrom rising, the one above from descending, and the ones on the sides hold it \\nin place. The apostle is thus in the middle.] \\nApostol us autem est in media: the image of the apostle\\'s final resting place, the \\ncenter of the pilgrim\\'s desire, is a perfect symbol of the liminality of the \\npilgrim situation itself. That is, by inhabiting an interval between two states \\nof intense identification-\"the dilemma of choice versus obligation,\" to \\nborrow Victor Turner\\'s formulation-the pilgrim himself and the goal with \\nwhich he comes to identify himself function as limits for unifying what is, \\nor was previously; disparate or plural. 65 The in-between offers the possibility THE MARVEL AND THE LIST 123 \\nof cultural and personal reassessment through recombining or connecting \\nwith what is usually figured as separate, alien, other. \\nIndeed, in the Letter, the function of St. Thomas\\'s tomb as geographical \\nlimit of Prester John\\'s kingdom draws our attention to the simultaneity of \\nbeing in the middle and at the edge, of being in the presence of the same \\nand the other, hue vel illuc at once: \\n12. In tribus Indiis dominatur magnificentia nostra, et transit terra nostra ab \\nulteriore India, in qua corpus sancti Thomae apostoli requiescit, per desertum \\net progreditur ad solis ortum, et redit per declivum [per devium66] in \\nBabilonem desertam iuxta turrim Babel. \\n[12. Our magnificence dominates the three Indias, and our land extends from \\nfarthest India, where the body of St. Thomas the Apostle rests, across the \\ndesert to the place where the sun rises, and returns by slopes [through \\nbyways] to the Babylonian desert near the tower of Babel.] \\nThe desert kingdom of Prester John exists as a space between several points, \\nthe relationship of one to another initiating a process of self-constitution. \\nIdentifying with this realm means neither reducing it to a fiction, a fixed nar\\xad\\nrative description of travel points inscribed on an imagined map of the \\nOrient, nor domesticating it by converting the far off or strange into the near \\nor recognizable. Instead, this other world confronts the medieval West as a \\nprocess, displacing, by the practice of the travels it invokes, all inert \\nrepresentations of the alterity with which the West provisionally identifies. \\nFor Prester John to have meaning in the medieval cultural imaginary, he must \\nbe exploded into his constitutive parts-the tomb of St. Thomas, the tower of \\nBabel, and so on-whose relationship to one another traces the paths along \\nwhich identification can finally take place. Now we reapproach, from an angle \\nthat will be pursued more completely in a subsequent discussion of the utopic \\nmeaning of Prester John\\'s desert, a theme of this chapter: how cultural iden\\xad\\ntity is found( ed) in the spaces posited between us and them, between a known \\nhere and an unknown there, or, more precisely; how the other\\'s identity is \\ngenerated in the interval itself, never in the lonely places (L. devia)-lying \\noutside or beyond--otherwise assiduously assigned to it. Not simply a matter \\nof figuring Prester John in the contours of the known, the utopic representa\\xad\\ntion of the East plays freely on the relationships between its recognizable fea\\xad\\ntures in order to create the space . for grasping, in a single moment of \\nrecognition, what is alien in the alien and in the self-same. \\nOn the Threshold: A Serial Genealogy of Identity \\nThat the meaning of the other is to be found in interstitial spaces, allowing \\nfor otherwise unlikely encounters and unsuspected sources of interaction 124 ECSTATIC TRANSFORMATION \\nand influence, becomes clearer when we look, for a moment, at another \\nWestern medieval legend involving a magnetically suspended tomb. A vital \\npart of the anti-Islamic polemic tradition, this legend maintained that \\nMuslims believed Muhammad\\'s tomb, residing in the Ka\\'ba, the rectangular \\nbuilding in Mecca that is the center of Islamic devotion, was magnetically \\nsupported in the air.67 The general belief in the West that Muhammad\\'s \\ntomb in Mecca was scandalously adored with idolatry (\"adorare ... turpiter \\nydolatrando\")68 dovetailed with the belief that the Hajj was the Islamic \\ncounterpart of Christian pilgrimage to the relics of a saint. 69 It is rather easy \\nto see how these beliefs evidence both an effort to understand the other in \\nthe shape of the known70 and a willful distortion of the other in order to \\ndemonize him. Even the Black Stone embedded in the wall of the Ka\\'ba, \\nwhich Muslim pilgrims pass seven times as they circle the building, each \\ntime kissing or touching the stone, was taken by Latin anti-Muslim writers \\nto be the magnetic stone that supported Muhammad\\'s coffin.71 Moreover, \\nto the Muslims was imputed the belief that this levitation was a sign of the \\nprophet\\'s divine power. The Muslims\\' failure to recognize the purely natural \\ncauses for this suspension was taken to be a sure sign of their credulity and \\nignorance. 72 Indeed, a no less authoritative figure than Augustine, in an \\nattempt to distinguish among divine miracles, natural wonders, and human \\nmarvels, used the example of a floating pagan idol73 in order to emphasize \\nthe error of confusing human artifice with divine miracle: \\nThus God\\'s created beings can, by the use of human arts, effect so many \\nmarvels, which they call mechanihnata (contrivances), of a nature so astound\\xad\\ning that those unfamiliar with them would suppose them to be the works of \\nGod himself. That is how in one of the temples an image of iron hung \\nsuspended in mid-air between two lodestones of the required size, fastened \\none on the floor, the other in the roof, suggesting to those who did not know \\nwhat was above and beneath the image that it hung there by an exercise of \\ndivine power.74 \\nThe Christian production of a set of beliefs, first imputed to the other \\nand then ridiculed, demonstrates some of the complex disavowals of same\\xad\\nness and evasions of circular logic that must ensue if Muslims are to be \\nsymbolically contained, overridden, or erased. Yet similarities between self \\nand other remain as fallout of the symbolic \"leveling\" or collapsing of alter\\xad\\nity. Indeed, the striking overlap of the story of St. Thomas and the legend of \\nMuhammad reminds us not only of the difficulty with which similarities to \\nthe Muslim other were strenuously disavowed in the Middle Ages, but, \\nmore importantly, if less intuitively, of the fluidity of the boundaries \\narbitrarily drawn (especially in the sense of rendering a judgment) to efface the ---- ------------------\\nTHE MARVEL AND THE LIST 125 \\nintervals, interfaces, and interstices between same and other. The narratives \\nset in place to privilege or guarantee the stability of these borders turn out \\nto be themselves unstable, full of contradiction. \\nThe element of repetition in these tomb stories is not an end in itself, \\nbut rather in part a practice of parody, whose force consists precisely in the \\nattempt to avoid flat repetitions which can only bring about a stagnation of \\nidentity. This is why, for example, the otherwise-enlightened Ramon Lull \\nappealed to the witness of converted Muslims (presumably unconverted \\nMuslims would be unreliable) to deny the legend of the magnetically \\nsuspended tomb when that legend was itself a Western construction. Efforts \\nto affirm difference by disavowing similarity, projects marking the whole \\ntradition of anti-Muslim polemic, necessarily end up as parodies engaged in \\nthe simultaneous recognition and denial of certain attributes or experiences \\nof the other. If the other ineluctably leads back to the self, then this imbri\\xad\\ncation of sameness and alterity, when configuring the other in the contours \\nof the known, immediately raises a conceptual problem inherent in mimesis: \\nwhat kind of relation between self and other, between model and copy, \\nobtains when all adequation between the two is broken down by parodic \\nrepetition? To affirm the radical alterity of Muslims, Christians turn them \\ninto endlessly repeatable simulacra of themselves, and in the process create \\nthemselves retroactively. The relationship between model and copy is \\nthus one where, to borrow Robert Young\\'s terms, \"the copy precedes the \\noriginal in a ghostly originary repetition.\"75 \\nTurning the other into a degraded, ghostly version of the self describes a \\nstructure of retroactivity comparable to the Derridean notion of \"originary \\ndelay\": \"a first event cannot be a first event if it is the only event; it cannot \\nbe said to be a first until it is followed by a second, which then retrospec\\xad\\ntively constitutes it as the first-which means that its firstness hovers over it \\nas its meaning without being identifiable ~th it as such\" (82).76 \"Originary \\ndelay\" provides a crucial insight into self-other relations by radically refig\\xad\\nuring the self as a potentiality, an entity ready to be actualized only as a \\npoint in a series. Furthermore, selfhood, understandable strictly as an effect \\nof meaning not identifiable with anything in the self as such, cannot exist \\n\"by its own properties alone.\" Instead the other, \"with all the force of its \\ndelay,\"77 only comes after, taking priority over the self as it brings the self \\ninto being. Christian identity is thus a radically provisional, contingent, and \\nserial construction, whose emergence is based on the negative premise that \\nsimulation of the Muslim other actually leads to a degraded version of \\nthe Christian subject. There is no originarity until the second subject (the \\nother) comes along to make the first subject first, and so in the process turns \\nthis first subject into an other. Originary delay and the paradoxes structuring \\nit suggest, then, a previously ignored feature of the complex interplay and 126 ECSTATIC TRANSFORMATION \\ninterpenetration of cultures in the Middle Ages: accepting that identities, as \\npoints on a continuous relay, are unfinished entails recognizing how deeply \\nsuch identities are part of the movement they share with the narratives \\nrecounting them. \\nThis continual movement is one engendered and propelled by anxiety. \\nIndeed, the writing of identity as a genealogical series bears structural affini\\xad\\nties to the psychoanalytic concept of Nachtri:iglichkeit (deferred action or \\nretroactivity): both are transferential functions, whereby temporal relations \\ndetermine and delimit self-identification through an anxious repetition of \\nevents.78 Selfhood undergoes constant revision and disruption when new \\nrelations to some originary event are formed. In serial identities formation, \\njust as in the Freudian analysis of neurosis, the question whether the origi\\xad\\nnary event really \"came before\" (as, say, part of an infantile past) or is the \\nproduct of subsequent fantasy is of secondary importance. What matters is \\nthe retroactive force that an encounter with otherness exerts on the present \\nsubject. Corning after the subject, the other addresses it as its cause, and in \\nso doing throws the subject radically into question: \\nanxiety manifests itself clearly from the very beginning as relating-in a \\ncomplex manner-to the desire of the Other .... The anxiety-producing \\nfunction of the desire of the Other [is J tied to the fact that I do not know \\nwhat object o I am for this desire. \\nThe desire of the Other does not recognize me ... .It challenges me (me \\nmet en cause), questioning me at the very root of my own desire as o, as cause \\nof this desire and not as object. And it is because this entails a relation of \\nantecedence, a temporal relation, that I can do nothing to break this hold \\nother than to enter into it. It is this temporal dimension that is anxiety. 79 \\nWe might extend Lacan\\'s insight, that a temporal disjunction lies at the heart \\nof anxiety, to account for cultural attitudes toward otherness in the medieval \\ndocuments I have been discussing. That is, we might view the various dis\\xad\\ncourses on alterity-anti-Muslim polemic, allegories and marvels of the East, \\nfantasy letters-together as one dimension of a unified cultural response to \\nthe threat posed by an other, who is prevented by those same discourses from \\nperforming the one act that would allow for a coming to terms with anxiety. \\n\"Anxiety;\\' Lacan assured his audience in 1963, \"is only overcome where the \\nOther names itself.\"80 Western documents of alterity preclude the Eastern \\nOther from defining its own desires, and hence, from naming itself. The result \\nis that the very structure of anxiety, that of a \"twisted border\" or Mobius band, 81 \\nenmeshes the subject to the extent that the threshold between identity and \\n~onidentity dissolves: one tomb resembles the other. CHAPTER6 \\nMONSTROUS TOPOI \\nIdentity on the Move: Travel Narratives, Utopic Space \\nHlhat you chart is already where you\\'ve been. But where we are going, there is no chart yet. \\n-Audre Lorde1 \\nffi get to where we\\'re going, and then there is still the distance to cover. \\n-Edmond Jabes \\nThe relation of St. Thomas\\'s coffin to Muhammad\\'s is not (only) an issue of \\nhistoricity-the question of which\" came first\" -but an issue of temporality\\xad\\nhow such a relation was to be grasped as an event possessing immediate \\nanalytic attention (in a \"here and now\"). Or, put another way, the question \\nis: how was this \"here and now\" defined vis-a-vis its relation not only to the \\npast or to the other, but to another relation per se (that of the two tombs)? \\nGrasping the relation of the two tombs suggests foremost a process of iden\\xad\\ntity formation, where at work are acts forming an identity on the move, \\nalways implicated in the convergence and relation of the specific cultural \\nhistories conditioning those acts. Identity, Stuart Hall points out, thus \\nemerges \"at the unstable point where the \\'unspeakable\\' stories of subjectivity \\nmeet the narratives of history, of a culture.\"2 This passage from \"unspeak\\xad\\nable\" to \"speakable,\" from silent narratives of the single self to resonant \\nmyths of collective history, assumes in medieval culture a form that is \\nnecessarily incomplete, open to what might be called the \"expression of a \\npossible world.\"3 In this expression of the possible inheres the utopic; that \\nmiddle ground between the founding of subjectivity and its displacement, \\nbetween the establishment of identity and its transgression, and, as I have \\nsuggested in the introduction, between the positioning of subjecthood and \\nits perversion through fantasy and play. If, as Michel de Certeau has said, \\n\"every story is a travel story. .. a spatial practice,\"4 then utopic stories trace \\nView publication stats'"
            ],
            "application/vnd.google.colaboratory.intrinsic+json": {
              "type": "string"
            }
          },
          "metadata": {},
          "execution_count": 15
        }
      ]
    },
    {
      "cell_type": "code",
      "source": [
        "# We need to split the text using Character Text Split such that it sshould not increse token size\n",
        "text_splitter = CharacterTextSplitter(\n",
        "    separator = \"\\n\",\n",
        "    chunk_size = 800,\n",
        "    chunk_overlap  = 200,\n",
        "    length_function = len,\n",
        ")\n",
        "texts = text_splitter.split_text(raw_text)"
      ],
      "metadata": {
        "id": "tVFgPuck6RPR"
      },
      "execution_count": null,
      "outputs": []
    },
    {
      "cell_type": "code",
      "source": [
        "len(texts)"
      ],
      "metadata": {
        "colab": {
          "base_uri": "https://localhost:8080/"
        },
        "id": "pcqvbu-86feO",
        "outputId": "5d3e9b69-5c16-4b2e-ad25-d805f065d61a"
      },
      "execution_count": null,
      "outputs": [
        {
          "output_type": "execute_result",
          "data": {
            "text/plain": [
              "123"
            ]
          },
          "metadata": {},
          "execution_count": 17
        }
      ]
    },
    {
      "cell_type": "code",
      "source": [
        "from langchain.chains.question_answering import load_qa_chain\n",
        "from langchain.llms import OpenAI"
      ],
      "metadata": {
        "id": "IebtIWpE6p_f"
      },
      "execution_count": null,
      "outputs": []
    },
    {
      "cell_type": "code",
      "source": [
        "# Download embeddings from OpenAI\n",
        "embeddings = OpenAIEmbeddings()"
      ],
      "metadata": {
        "colab": {
          "base_uri": "https://localhost:8080/"
        },
        "id": "u_ZxeCrR6gRj",
        "outputId": "7e7b6ab6-d69f-46d0-e925-74ce12a5a912"
      },
      "execution_count": null,
      "outputs": [
        {
          "output_type": "stream",
          "name": "stderr",
          "text": [
            "/usr/local/lib/python3.10/dist-packages/langchain_core/_api/deprecation.py:139: LangChainDeprecationWarning: The class `OpenAIEmbeddings` was deprecated in LangChain 0.0.9 and will be removed in 0.3.0. An updated version of the class exists in the langchain-openai package and should be used instead. To use it run `pip install -U langchain-openai` and import as `from langchain_openai import OpenAIEmbeddings`.\n",
            "  warn_deprecated(\n"
          ]
        }
      ]
    },
    {
      "cell_type": "code",
      "source": [
        "document_search = FAISS.from_texts(texts, embeddings)"
      ],
      "metadata": {
        "id": "kXG-EUxHA8e0"
      },
      "execution_count": null,
      "outputs": []
    },
    {
      "cell_type": "code",
      "source": [
        "chain = load_qa_chain(OpenAI(), chain_type=\"stuff\") # this chain = stuff is used to retrive the querry from the pdf"
      ],
      "metadata": {
        "id": "NN_O_EfB6u5k"
      },
      "execution_count": null,
      "outputs": []
    },
    {
      "cell_type": "code",
      "source": [
        "query = \"The oscillations underwriting any encounter with otherness become productive\"\n",
        "docs = document_search.similarity_search(query)\n",
        "chain.run(input_documents=docs, question=query)"
      ],
      "metadata": {
        "id": "RkoCu1mA646p"
      },
      "execution_count": null,
      "outputs": []
    },
    {
      "cell_type": "markdown",
      "source": [
        "# **directly importing/loading the online pdf**"
      ],
      "metadata": {
        "id": "eb-F5iPS7X3n"
      }
    },
    {
      "cell_type": "code",
      "source": [
        "loader = OnlinePDFLoader(\"https://core.ac.uk/download/pdf/51066477.pdf\")"
      ],
      "metadata": {
        "id": "Bp_-hcXy7lIO"
      },
      "execution_count": null,
      "outputs": []
    },
    {
      "cell_type": "code",
      "source": [
        "!pip install unstructured"
      ],
      "metadata": {
        "colab": {
          "base_uri": "https://localhost:8080/"
        },
        "id": "tCcECfPe7u71",
        "outputId": "92812329-37e8-4427-8709-c3c7e992d6bb"
      },
      "execution_count": null,
      "outputs": [
        {
          "output_type": "stream",
          "name": "stdout",
          "text": [
            "Collecting unstructured\n",
            "  Downloading unstructured-0.15.1-py3-none-any.whl.metadata (29 kB)\n",
            "Requirement already satisfied: chardet in /usr/local/lib/python3.10/dist-packages (from unstructured) (5.2.0)\n",
            "Collecting filetype (from unstructured)\n",
            "  Downloading filetype-1.2.0-py2.py3-none-any.whl.metadata (6.5 kB)\n",
            "Collecting python-magic (from unstructured)\n",
            "  Downloading python_magic-0.4.27-py2.py3-none-any.whl.metadata (5.8 kB)\n",
            "Requirement already satisfied: lxml in /usr/local/lib/python3.10/dist-packages (from unstructured) (4.9.4)\n",
            "Requirement already satisfied: nltk in /usr/local/lib/python3.10/dist-packages (from unstructured) (3.8.1)\n",
            "Requirement already satisfied: tabulate in /usr/local/lib/python3.10/dist-packages (from unstructured) (0.9.0)\n",
            "Requirement already satisfied: requests in /usr/local/lib/python3.10/dist-packages (from unstructured) (2.31.0)\n",
            "Requirement already satisfied: beautifulsoup4 in /usr/local/lib/python3.10/dist-packages (from unstructured) (4.12.3)\n",
            "Collecting emoji (from unstructured)\n",
            "  Downloading emoji-2.12.1-py3-none-any.whl.metadata (5.4 kB)\n",
            "Requirement already satisfied: dataclasses-json in /usr/local/lib/python3.10/dist-packages (from unstructured) (0.6.7)\n",
            "Collecting python-iso639 (from unstructured)\n",
            "  Downloading python_iso639-2024.4.27-py3-none-any.whl.metadata (13 kB)\n",
            "Collecting langdetect (from unstructured)\n",
            "  Downloading langdetect-1.0.9.tar.gz (981 kB)\n",
            "\u001b[2K     \u001b[90m━━━━━━━━━━━━━━━━━━━━━━━━━━━━━━━━━━━━━━━━\u001b[0m \u001b[32m981.5/981.5 kB\u001b[0m \u001b[31m22.3 MB/s\u001b[0m eta \u001b[36m0:00:00\u001b[0m\n",
            "\u001b[?25h  Preparing metadata (setup.py) ... \u001b[?25l\u001b[?25hdone\n",
            "Requirement already satisfied: numpy<2 in /usr/local/lib/python3.10/dist-packages (from unstructured) (1.26.4)\n",
            "Collecting rapidfuzz (from unstructured)\n",
            "  Downloading rapidfuzz-3.9.6-cp310-cp310-manylinux_2_17_x86_64.manylinux2014_x86_64.whl.metadata (12 kB)\n",
            "Collecting backoff (from unstructured)\n",
            "  Downloading backoff-2.2.1-py3-none-any.whl.metadata (14 kB)\n",
            "Requirement already satisfied: typing-extensions in /usr/local/lib/python3.10/dist-packages (from unstructured) (4.12.2)\n",
            "Collecting unstructured-client (from unstructured)\n",
            "  Downloading unstructured_client-0.25.4-py3-none-any.whl.metadata (13 kB)\n",
            "Requirement already satisfied: wrapt in /usr/local/lib/python3.10/dist-packages (from unstructured) (1.16.0)\n",
            "Requirement already satisfied: tqdm in /usr/local/lib/python3.10/dist-packages (from unstructured) (4.66.4)\n",
            "Requirement already satisfied: psutil in /usr/local/lib/python3.10/dist-packages (from unstructured) (5.9.5)\n",
            "Requirement already satisfied: soupsieve>1.2 in /usr/local/lib/python3.10/dist-packages (from beautifulsoup4->unstructured) (2.5)\n",
            "Requirement already satisfied: marshmallow<4.0.0,>=3.18.0 in /usr/local/lib/python3.10/dist-packages (from dataclasses-json->unstructured) (3.21.3)\n",
            "Requirement already satisfied: typing-inspect<1,>=0.4.0 in /usr/local/lib/python3.10/dist-packages (from dataclasses-json->unstructured) (0.9.0)\n",
            "Requirement already satisfied: six in /usr/local/lib/python3.10/dist-packages (from langdetect->unstructured) (1.16.0)\n",
            "Requirement already satisfied: click in /usr/local/lib/python3.10/dist-packages (from nltk->unstructured) (8.1.7)\n",
            "Requirement already satisfied: joblib in /usr/local/lib/python3.10/dist-packages (from nltk->unstructured) (1.4.2)\n",
            "Requirement already satisfied: regex>=2021.8.3 in /usr/local/lib/python3.10/dist-packages (from nltk->unstructured) (2024.5.15)\n",
            "Requirement already satisfied: charset-normalizer<4,>=2 in /usr/local/lib/python3.10/dist-packages (from requests->unstructured) (3.3.2)\n",
            "Requirement already satisfied: idna<4,>=2.5 in /usr/local/lib/python3.10/dist-packages (from requests->unstructured) (3.7)\n",
            "Requirement already satisfied: urllib3<3,>=1.21.1 in /usr/local/lib/python3.10/dist-packages (from requests->unstructured) (2.0.7)\n",
            "Requirement already satisfied: certifi>=2017.4.17 in /usr/local/lib/python3.10/dist-packages (from requests->unstructured) (2024.7.4)\n",
            "Collecting deepdiff>=6.0 (from unstructured-client->unstructured)\n",
            "  Downloading deepdiff-7.0.1-py3-none-any.whl.metadata (6.8 kB)\n",
            "Requirement already satisfied: httpx>=0.27.0 in /usr/local/lib/python3.10/dist-packages (from unstructured-client->unstructured) (0.27.0)\n",
            "Collecting jsonpath-python>=1.0.6 (from unstructured-client->unstructured)\n",
            "  Downloading jsonpath_python-1.0.6-py3-none-any.whl.metadata (12 kB)\n",
            "Requirement already satisfied: mypy-extensions>=1.0.0 in /usr/local/lib/python3.10/dist-packages (from unstructured-client->unstructured) (1.0.0)\n",
            "Requirement already satisfied: nest-asyncio>=1.6.0 in /usr/local/lib/python3.10/dist-packages (from unstructured-client->unstructured) (1.6.0)\n",
            "Requirement already satisfied: packaging>=23.1 in /usr/local/lib/python3.10/dist-packages (from unstructured-client->unstructured) (24.1)\n",
            "Collecting pypdf>=4.0 (from unstructured-client->unstructured)\n",
            "  Downloading pypdf-4.3.1-py3-none-any.whl.metadata (7.4 kB)\n",
            "Requirement already satisfied: python-dateutil>=2.8.2 in /usr/local/lib/python3.10/dist-packages (from unstructured-client->unstructured) (2.8.2)\n",
            "Collecting requests-toolbelt>=1.0.0 (from unstructured-client->unstructured)\n",
            "  Downloading requests_toolbelt-1.0.0-py2.py3-none-any.whl.metadata (14 kB)\n",
            "Collecting ordered-set<4.2.0,>=4.1.0 (from deepdiff>=6.0->unstructured-client->unstructured)\n",
            "  Downloading ordered_set-4.1.0-py3-none-any.whl.metadata (5.3 kB)\n",
            "Requirement already satisfied: anyio in /usr/local/lib/python3.10/dist-packages (from httpx>=0.27.0->unstructured-client->unstructured) (3.7.1)\n",
            "Requirement already satisfied: httpcore==1.* in /usr/local/lib/python3.10/dist-packages (from httpx>=0.27.0->unstructured-client->unstructured) (1.0.5)\n",
            "Requirement already satisfied: sniffio in /usr/local/lib/python3.10/dist-packages (from httpx>=0.27.0->unstructured-client->unstructured) (1.3.1)\n",
            "Requirement already satisfied: h11<0.15,>=0.13 in /usr/local/lib/python3.10/dist-packages (from httpcore==1.*->httpx>=0.27.0->unstructured-client->unstructured) (0.14.0)\n",
            "Requirement already satisfied: exceptiongroup in /usr/local/lib/python3.10/dist-packages (from anyio->httpx>=0.27.0->unstructured-client->unstructured) (1.2.2)\n",
            "Downloading unstructured-0.15.1-py3-none-any.whl (2.1 MB)\n",
            "\u001b[2K   \u001b[90m━━━━━━━━━━━━━━━━━━━━━━━━━━━━━━━━━━━━━━━━\u001b[0m \u001b[32m2.1/2.1 MB\u001b[0m \u001b[31m76.3 MB/s\u001b[0m eta \u001b[36m0:00:00\u001b[0m\n",
            "\u001b[?25hDownloading backoff-2.2.1-py3-none-any.whl (15 kB)\n",
            "Downloading emoji-2.12.1-py3-none-any.whl (431 kB)\n",
            "\u001b[2K   \u001b[90m━━━━━━━━━━━━━━━━━━━━━━━━━━━━━━━━━━━━━━━━\u001b[0m \u001b[32m431.4/431.4 kB\u001b[0m \u001b[31m31.6 MB/s\u001b[0m eta \u001b[36m0:00:00\u001b[0m\n",
            "\u001b[?25hDownloading filetype-1.2.0-py2.py3-none-any.whl (19 kB)\n",
            "Downloading python_iso639-2024.4.27-py3-none-any.whl (274 kB)\n",
            "\u001b[2K   \u001b[90m━━━━━━━━━━━━━━━━━━━━━━━━━━━━━━━━━━━━━━━━\u001b[0m \u001b[32m274.7/274.7 kB\u001b[0m \u001b[31m25.0 MB/s\u001b[0m eta \u001b[36m0:00:00\u001b[0m\n",
            "\u001b[?25hDownloading python_magic-0.4.27-py2.py3-none-any.whl (13 kB)\n",
            "Downloading rapidfuzz-3.9.6-cp310-cp310-manylinux_2_17_x86_64.manylinux2014_x86_64.whl (3.4 MB)\n",
            "\u001b[2K   \u001b[90m━━━━━━━━━━━━━━━━━━━━━━━━━━━━━━━━━━━━━━━━\u001b[0m \u001b[32m3.4/3.4 MB\u001b[0m \u001b[31m102.3 MB/s\u001b[0m eta \u001b[36m0:00:00\u001b[0m\n",
            "\u001b[?25hDownloading unstructured_client-0.25.4-py3-none-any.whl (43 kB)\n",
            "\u001b[2K   \u001b[90m━━━━━━━━━━━━━━━━━━━━━━━━━━━━━━━━━━━━━━━━\u001b[0m \u001b[32m43.8/43.8 kB\u001b[0m \u001b[31m4.1 MB/s\u001b[0m eta \u001b[36m0:00:00\u001b[0m\n",
            "\u001b[?25hDownloading deepdiff-7.0.1-py3-none-any.whl (80 kB)\n",
            "\u001b[2K   \u001b[90m━━━━━━━━━━━━━━━━━━━━━━━━━━━━━━━━━━━━━━━━\u001b[0m \u001b[32m80.8/80.8 kB\u001b[0m \u001b[31m8.7 MB/s\u001b[0m eta \u001b[36m0:00:00\u001b[0m\n",
            "\u001b[?25hDownloading jsonpath_python-1.0.6-py3-none-any.whl (7.6 kB)\n",
            "Downloading pypdf-4.3.1-py3-none-any.whl (295 kB)\n",
            "\u001b[2K   \u001b[90m━━━━━━━━━━━━━━━━━━━━━━━━━━━━━━━━━━━━━━━━\u001b[0m \u001b[32m295.8/295.8 kB\u001b[0m \u001b[31m28.1 MB/s\u001b[0m eta \u001b[36m0:00:00\u001b[0m\n",
            "\u001b[?25hDownloading requests_toolbelt-1.0.0-py2.py3-none-any.whl (54 kB)\n",
            "\u001b[2K   \u001b[90m━━━━━━━━━━━━━━━━━━━━━━━━━━━━━━━━━━━━━━━━\u001b[0m \u001b[32m54.5/54.5 kB\u001b[0m \u001b[31m5.2 MB/s\u001b[0m eta \u001b[36m0:00:00\u001b[0m\n",
            "\u001b[?25hDownloading ordered_set-4.1.0-py3-none-any.whl (7.6 kB)\n",
            "Building wheels for collected packages: langdetect\n",
            "  Building wheel for langdetect (setup.py) ... \u001b[?25l\u001b[?25hdone\n",
            "  Created wheel for langdetect: filename=langdetect-1.0.9-py3-none-any.whl size=993221 sha256=68f79df724041b4ed5ad34abd22695eacc49ed7f22778e557aa74be116de69a1\n",
            "  Stored in directory: /root/.cache/pip/wheels/95/03/7d/59ea870c70ce4e5a370638b5462a7711ab78fba2f655d05106\n",
            "Successfully built langdetect\n",
            "Installing collected packages: filetype, rapidfuzz, python-magic, python-iso639, pypdf, ordered-set, langdetect, jsonpath-python, emoji, backoff, requests-toolbelt, deepdiff, unstructured-client, unstructured\n",
            "Successfully installed backoff-2.2.1 deepdiff-7.0.1 emoji-2.12.1 filetype-1.2.0 jsonpath-python-1.0.6 langdetect-1.0.9 ordered-set-4.1.0 pypdf-4.3.1 python-iso639-2024.4.27 python-magic-0.4.27 rapidfuzz-3.9.6 requests-toolbelt-1.0.0 unstructured-0.15.1 unstructured-client-0.25.4\n"
          ]
        }
      ]
    },
    {
      "cell_type": "code",
      "source": [
        "data = loader.load()"
      ],
      "metadata": {
        "id": "VJ5iv2Ms8IeH"
      },
      "execution_count": null,
      "outputs": []
    },
    {
      "cell_type": "code",
      "source": [
        "data"
      ],
      "metadata": {
        "id": "XKaxaJA98OW7"
      },
      "execution_count": null,
      "outputs": []
    },
    {
      "cell_type": "code",
      "source": [
        "# Download embeddings from OpenAI\n",
        "embeddings = OpenAIEmbeddings()"
      ],
      "metadata": {
        "id": "nNmZC64q8PRc"
      },
      "execution_count": null,
      "outputs": []
    },
    {
      "cell_type": "code",
      "source": [
        "!pip install chromadb"
      ],
      "metadata": {
        "colab": {
          "base_uri": "https://localhost:8080/"
        },
        "id": "PPHURZ9k8U_O",
        "outputId": "b358e846-042b-4771-e13f-13cd77974467"
      },
      "execution_count": null,
      "outputs": [
        {
          "output_type": "stream",
          "name": "stdout",
          "text": [
            "Collecting chromadb\n",
            "  Downloading chromadb-0.5.5-py3-none-any.whl.metadata (6.8 kB)\n",
            "Requirement already satisfied: build>=1.0.3 in /usr/local/lib/python3.10/dist-packages (from chromadb) (1.2.1)\n",
            "Requirement already satisfied: pydantic>=1.9 in /usr/local/lib/python3.10/dist-packages (from chromadb) (2.8.2)\n",
            "Collecting chroma-hnswlib==0.7.6 (from chromadb)\n",
            "  Downloading chroma_hnswlib-0.7.6-cp310-cp310-manylinux_2_17_x86_64.manylinux2014_x86_64.whl.metadata (252 bytes)\n",
            "Collecting fastapi>=0.95.2 (from chromadb)\n",
            "  Downloading fastapi-0.112.0-py3-none-any.whl.metadata (27 kB)\n",
            "Collecting uvicorn>=0.18.3 (from uvicorn[standard]>=0.18.3->chromadb)\n",
            "  Downloading uvicorn-0.30.5-py3-none-any.whl.metadata (6.6 kB)\n",
            "Requirement already satisfied: numpy<2.0.0,>=1.22.5 in /usr/local/lib/python3.10/dist-packages (from chromadb) (1.26.4)\n",
            "Collecting posthog>=2.4.0 (from chromadb)\n",
            "  Downloading posthog-3.5.0-py2.py3-none-any.whl.metadata (2.0 kB)\n",
            "Requirement already satisfied: typing-extensions>=4.5.0 in /usr/local/lib/python3.10/dist-packages (from chromadb) (4.12.2)\n",
            "Collecting onnxruntime>=1.14.1 (from chromadb)\n",
            "  Downloading onnxruntime-1.18.1-cp310-cp310-manylinux_2_27_x86_64.manylinux_2_28_x86_64.whl.metadata (4.3 kB)\n",
            "Collecting opentelemetry-api>=1.2.0 (from chromadb)\n",
            "  Downloading opentelemetry_api-1.26.0-py3-none-any.whl.metadata (1.4 kB)\n",
            "Collecting opentelemetry-exporter-otlp-proto-grpc>=1.2.0 (from chromadb)\n",
            "  Downloading opentelemetry_exporter_otlp_proto_grpc-1.26.0-py3-none-any.whl.metadata (2.3 kB)\n",
            "Collecting opentelemetry-instrumentation-fastapi>=0.41b0 (from chromadb)\n",
            "  Downloading opentelemetry_instrumentation_fastapi-0.47b0-py3-none-any.whl.metadata (2.1 kB)\n",
            "Collecting opentelemetry-sdk>=1.2.0 (from chromadb)\n",
            "  Downloading opentelemetry_sdk-1.26.0-py3-none-any.whl.metadata (1.5 kB)\n",
            "Requirement already satisfied: tokenizers>=0.13.2 in /usr/local/lib/python3.10/dist-packages (from chromadb) (0.19.1)\n",
            "Collecting pypika>=0.48.9 (from chromadb)\n",
            "  Downloading PyPika-0.48.9.tar.gz (67 kB)\n",
            "\u001b[2K     \u001b[90m━━━━━━━━━━━━━━━━━━━━━━━━━━━━━━━━━━━━━━━━\u001b[0m \u001b[32m67.3/67.3 kB\u001b[0m \u001b[31m4.9 MB/s\u001b[0m eta \u001b[36m0:00:00\u001b[0m\n",
            "\u001b[?25h  Installing build dependencies ... \u001b[?25l\u001b[?25hdone\n",
            "  Getting requirements to build wheel ... \u001b[?25l\u001b[?25hdone\n",
            "  Preparing metadata (pyproject.toml) ... \u001b[?25l\u001b[?25hdone\n",
            "Requirement already satisfied: tqdm>=4.65.0 in /usr/local/lib/python3.10/dist-packages (from chromadb) (4.66.4)\n",
            "Collecting overrides>=7.3.1 (from chromadb)\n",
            "  Downloading overrides-7.7.0-py3-none-any.whl.metadata (5.8 kB)\n",
            "Requirement already satisfied: importlib-resources in /usr/local/lib/python3.10/dist-packages (from chromadb) (6.4.0)\n",
            "Requirement already satisfied: grpcio>=1.58.0 in /usr/local/lib/python3.10/dist-packages (from chromadb) (1.64.1)\n",
            "Collecting bcrypt>=4.0.1 (from chromadb)\n",
            "  Downloading bcrypt-4.2.0-cp39-abi3-manylinux_2_28_x86_64.whl.metadata (9.6 kB)\n",
            "Requirement already satisfied: typer>=0.9.0 in /usr/local/lib/python3.10/dist-packages (from chromadb) (0.12.3)\n",
            "Collecting kubernetes>=28.1.0 (from chromadb)\n",
            "  Downloading kubernetes-30.1.0-py2.py3-none-any.whl.metadata (1.5 kB)\n",
            "Requirement already satisfied: tenacity>=8.2.3 in /usr/local/lib/python3.10/dist-packages (from chromadb) (8.5.0)\n",
            "Requirement already satisfied: PyYAML>=6.0.0 in /usr/local/lib/python3.10/dist-packages (from chromadb) (6.0.1)\n",
            "Collecting mmh3>=4.0.1 (from chromadb)\n",
            "  Downloading mmh3-4.1.0-cp310-cp310-manylinux_2_5_x86_64.manylinux1_x86_64.manylinux_2_17_x86_64.manylinux2014_x86_64.whl.metadata (13 kB)\n",
            "Requirement already satisfied: orjson>=3.9.12 in /usr/local/lib/python3.10/dist-packages (from chromadb) (3.10.6)\n",
            "Requirement already satisfied: httpx>=0.27.0 in /usr/local/lib/python3.10/dist-packages (from chromadb) (0.27.0)\n",
            "Requirement already satisfied: packaging>=19.1 in /usr/local/lib/python3.10/dist-packages (from build>=1.0.3->chromadb) (24.1)\n",
            "Requirement already satisfied: pyproject_hooks in /usr/local/lib/python3.10/dist-packages (from build>=1.0.3->chromadb) (1.1.0)\n",
            "Requirement already satisfied: tomli>=1.1.0 in /usr/local/lib/python3.10/dist-packages (from build>=1.0.3->chromadb) (2.0.1)\n",
            "Collecting starlette<0.38.0,>=0.37.2 (from fastapi>=0.95.2->chromadb)\n",
            "  Downloading starlette-0.37.2-py3-none-any.whl.metadata (5.9 kB)\n",
            "Requirement already satisfied: anyio in /usr/local/lib/python3.10/dist-packages (from httpx>=0.27.0->chromadb) (3.7.1)\n",
            "Requirement already satisfied: certifi in /usr/local/lib/python3.10/dist-packages (from httpx>=0.27.0->chromadb) (2024.7.4)\n",
            "Requirement already satisfied: httpcore==1.* in /usr/local/lib/python3.10/dist-packages (from httpx>=0.27.0->chromadb) (1.0.5)\n",
            "Requirement already satisfied: idna in /usr/local/lib/python3.10/dist-packages (from httpx>=0.27.0->chromadb) (3.7)\n",
            "Requirement already satisfied: sniffio in /usr/local/lib/python3.10/dist-packages (from httpx>=0.27.0->chromadb) (1.3.1)\n",
            "Requirement already satisfied: h11<0.15,>=0.13 in /usr/local/lib/python3.10/dist-packages (from httpcore==1.*->httpx>=0.27.0->chromadb) (0.14.0)\n",
            "Requirement already satisfied: six>=1.9.0 in /usr/local/lib/python3.10/dist-packages (from kubernetes>=28.1.0->chromadb) (1.16.0)\n",
            "Requirement already satisfied: python-dateutil>=2.5.3 in /usr/local/lib/python3.10/dist-packages (from kubernetes>=28.1.0->chromadb) (2.8.2)\n",
            "Requirement already satisfied: google-auth>=1.0.1 in /usr/local/lib/python3.10/dist-packages (from kubernetes>=28.1.0->chromadb) (2.27.0)\n",
            "Requirement already satisfied: websocket-client!=0.40.0,!=0.41.*,!=0.42.*,>=0.32.0 in /usr/local/lib/python3.10/dist-packages (from kubernetes>=28.1.0->chromadb) (1.8.0)\n",
            "Requirement already satisfied: requests in /usr/local/lib/python3.10/dist-packages (from kubernetes>=28.1.0->chromadb) (2.31.0)\n",
            "Requirement already satisfied: requests-oauthlib in /usr/local/lib/python3.10/dist-packages (from kubernetes>=28.1.0->chromadb) (1.3.1)\n",
            "Requirement already satisfied: oauthlib>=3.2.2 in /usr/local/lib/python3.10/dist-packages (from kubernetes>=28.1.0->chromadb) (3.2.2)\n",
            "Requirement already satisfied: urllib3>=1.24.2 in /usr/local/lib/python3.10/dist-packages (from kubernetes>=28.1.0->chromadb) (2.0.7)\n",
            "Collecting coloredlogs (from onnxruntime>=1.14.1->chromadb)\n",
            "  Downloading coloredlogs-15.0.1-py2.py3-none-any.whl.metadata (12 kB)\n",
            "Requirement already satisfied: flatbuffers in /usr/local/lib/python3.10/dist-packages (from onnxruntime>=1.14.1->chromadb) (24.3.25)\n",
            "Requirement already satisfied: protobuf in /usr/local/lib/python3.10/dist-packages (from onnxruntime>=1.14.1->chromadb) (3.20.3)\n",
            "Requirement already satisfied: sympy in /usr/local/lib/python3.10/dist-packages (from onnxruntime>=1.14.1->chromadb) (1.13.1)\n",
            "Collecting deprecated>=1.2.6 (from opentelemetry-api>=1.2.0->chromadb)\n",
            "  Downloading Deprecated-1.2.14-py2.py3-none-any.whl.metadata (5.4 kB)\n",
            "Collecting importlib-metadata<=8.0.0,>=6.0 (from opentelemetry-api>=1.2.0->chromadb)\n",
            "  Downloading importlib_metadata-8.0.0-py3-none-any.whl.metadata (4.6 kB)\n",
            "Requirement already satisfied: googleapis-common-protos~=1.52 in /usr/local/lib/python3.10/dist-packages (from opentelemetry-exporter-otlp-proto-grpc>=1.2.0->chromadb) (1.63.2)\n",
            "Collecting opentelemetry-exporter-otlp-proto-common==1.26.0 (from opentelemetry-exporter-otlp-proto-grpc>=1.2.0->chromadb)\n",
            "  Downloading opentelemetry_exporter_otlp_proto_common-1.26.0-py3-none-any.whl.metadata (1.8 kB)\n",
            "Collecting opentelemetry-proto==1.26.0 (from opentelemetry-exporter-otlp-proto-grpc>=1.2.0->chromadb)\n",
            "  Downloading opentelemetry_proto-1.26.0-py3-none-any.whl.metadata (2.3 kB)\n",
            "Collecting opentelemetry-instrumentation-asgi==0.47b0 (from opentelemetry-instrumentation-fastapi>=0.41b0->chromadb)\n",
            "  Downloading opentelemetry_instrumentation_asgi-0.47b0-py3-none-any.whl.metadata (2.0 kB)\n",
            "Collecting opentelemetry-instrumentation==0.47b0 (from opentelemetry-instrumentation-fastapi>=0.41b0->chromadb)\n",
            "  Downloading opentelemetry_instrumentation-0.47b0-py3-none-any.whl.metadata (6.1 kB)\n",
            "Collecting opentelemetry-semantic-conventions==0.47b0 (from opentelemetry-instrumentation-fastapi>=0.41b0->chromadb)\n",
            "  Downloading opentelemetry_semantic_conventions-0.47b0-py3-none-any.whl.metadata (2.4 kB)\n",
            "Collecting opentelemetry-util-http==0.47b0 (from opentelemetry-instrumentation-fastapi>=0.41b0->chromadb)\n",
            "  Downloading opentelemetry_util_http-0.47b0-py3-none-any.whl.metadata (2.5 kB)\n",
            "Requirement already satisfied: setuptools>=16.0 in /usr/local/lib/python3.10/dist-packages (from opentelemetry-instrumentation==0.47b0->opentelemetry-instrumentation-fastapi>=0.41b0->chromadb) (71.0.4)\n",
            "Requirement already satisfied: wrapt<2.0.0,>=1.0.0 in /usr/local/lib/python3.10/dist-packages (from opentelemetry-instrumentation==0.47b0->opentelemetry-instrumentation-fastapi>=0.41b0->chromadb) (1.16.0)\n",
            "Collecting asgiref~=3.0 (from opentelemetry-instrumentation-asgi==0.47b0->opentelemetry-instrumentation-fastapi>=0.41b0->chromadb)\n",
            "  Downloading asgiref-3.8.1-py3-none-any.whl.metadata (9.3 kB)\n",
            "Collecting monotonic>=1.5 (from posthog>=2.4.0->chromadb)\n",
            "  Downloading monotonic-1.6-py2.py3-none-any.whl.metadata (1.5 kB)\n",
            "Requirement already satisfied: backoff>=1.10.0 in /usr/local/lib/python3.10/dist-packages (from posthog>=2.4.0->chromadb) (2.2.1)\n",
            "Requirement already satisfied: annotated-types>=0.4.0 in /usr/local/lib/python3.10/dist-packages (from pydantic>=1.9->chromadb) (0.7.0)\n",
            "Requirement already satisfied: pydantic-core==2.20.1 in /usr/local/lib/python3.10/dist-packages (from pydantic>=1.9->chromadb) (2.20.1)\n",
            "Requirement already satisfied: huggingface-hub<1.0,>=0.16.4 in /usr/local/lib/python3.10/dist-packages (from tokenizers>=0.13.2->chromadb) (0.23.5)\n",
            "Requirement already satisfied: click>=8.0.0 in /usr/local/lib/python3.10/dist-packages (from typer>=0.9.0->chromadb) (8.1.7)\n",
            "Requirement already satisfied: shellingham>=1.3.0 in /usr/local/lib/python3.10/dist-packages (from typer>=0.9.0->chromadb) (1.5.4)\n",
            "Requirement already satisfied: rich>=10.11.0 in /usr/local/lib/python3.10/dist-packages (from typer>=0.9.0->chromadb) (13.7.1)\n",
            "Collecting httptools>=0.5.0 (from uvicorn[standard]>=0.18.3->chromadb)\n",
            "  Downloading httptools-0.6.1-cp310-cp310-manylinux_2_5_x86_64.manylinux1_x86_64.manylinux_2_17_x86_64.manylinux2014_x86_64.whl.metadata (3.6 kB)\n",
            "Collecting python-dotenv>=0.13 (from uvicorn[standard]>=0.18.3->chromadb)\n",
            "  Downloading python_dotenv-1.0.1-py3-none-any.whl.metadata (23 kB)\n",
            "Collecting uvloop!=0.15.0,!=0.15.1,>=0.14.0 (from uvicorn[standard]>=0.18.3->chromadb)\n",
            "  Downloading uvloop-0.19.0-cp310-cp310-manylinux_2_17_x86_64.manylinux2014_x86_64.whl.metadata (4.9 kB)\n",
            "Collecting watchfiles>=0.13 (from uvicorn[standard]>=0.18.3->chromadb)\n",
            "  Downloading watchfiles-0.22.0-cp310-cp310-manylinux_2_17_x86_64.manylinux2014_x86_64.whl.metadata (4.9 kB)\n",
            "Collecting websockets>=10.4 (from uvicorn[standard]>=0.18.3->chromadb)\n",
            "  Downloading websockets-12.0-cp310-cp310-manylinux_2_5_x86_64.manylinux1_x86_64.manylinux_2_17_x86_64.manylinux2014_x86_64.whl.metadata (6.6 kB)\n",
            "Requirement already satisfied: cachetools<6.0,>=2.0.0 in /usr/local/lib/python3.10/dist-packages (from google-auth>=1.0.1->kubernetes>=28.1.0->chromadb) (5.4.0)\n",
            "Requirement already satisfied: pyasn1-modules>=0.2.1 in /usr/local/lib/python3.10/dist-packages (from google-auth>=1.0.1->kubernetes>=28.1.0->chromadb) (0.4.0)\n",
            "Requirement already satisfied: rsa<5,>=3.1.4 in /usr/local/lib/python3.10/dist-packages (from google-auth>=1.0.1->kubernetes>=28.1.0->chromadb) (4.9)\n",
            "Requirement already satisfied: filelock in /usr/local/lib/python3.10/dist-packages (from huggingface-hub<1.0,>=0.16.4->tokenizers>=0.13.2->chromadb) (3.15.4)\n",
            "Requirement already satisfied: fsspec>=2023.5.0 in /usr/local/lib/python3.10/dist-packages (from huggingface-hub<1.0,>=0.16.4->tokenizers>=0.13.2->chromadb) (2024.6.1)\n",
            "Requirement already satisfied: zipp>=0.5 in /usr/local/lib/python3.10/dist-packages (from importlib-metadata<=8.0.0,>=6.0->opentelemetry-api>=1.2.0->chromadb) (3.19.2)\n",
            "Requirement already satisfied: charset-normalizer<4,>=2 in /usr/local/lib/python3.10/dist-packages (from requests->kubernetes>=28.1.0->chromadb) (3.3.2)\n",
            "Requirement already satisfied: markdown-it-py>=2.2.0 in /usr/local/lib/python3.10/dist-packages (from rich>=10.11.0->typer>=0.9.0->chromadb) (3.0.0)\n",
            "Requirement already satisfied: pygments<3.0.0,>=2.13.0 in /usr/local/lib/python3.10/dist-packages (from rich>=10.11.0->typer>=0.9.0->chromadb) (2.16.1)\n",
            "Requirement already satisfied: exceptiongroup in /usr/local/lib/python3.10/dist-packages (from anyio->httpx>=0.27.0->chromadb) (1.2.2)\n",
            "Collecting humanfriendly>=9.1 (from coloredlogs->onnxruntime>=1.14.1->chromadb)\n",
            "  Downloading humanfriendly-10.0-py2.py3-none-any.whl.metadata (9.2 kB)\n",
            "Requirement already satisfied: mpmath<1.4,>=1.1.0 in /usr/local/lib/python3.10/dist-packages (from sympy->onnxruntime>=1.14.1->chromadb) (1.3.0)\n",
            "Requirement already satisfied: mdurl~=0.1 in /usr/local/lib/python3.10/dist-packages (from markdown-it-py>=2.2.0->rich>=10.11.0->typer>=0.9.0->chromadb) (0.1.2)\n",
            "Requirement already satisfied: pyasn1<0.7.0,>=0.4.6 in /usr/local/lib/python3.10/dist-packages (from pyasn1-modules>=0.2.1->google-auth>=1.0.1->kubernetes>=28.1.0->chromadb) (0.6.0)\n",
            "Downloading chromadb-0.5.5-py3-none-any.whl (584 kB)\n",
            "\u001b[2K   \u001b[90m━━━━━━━━━━━━━━━━━━━━━━━━━━━━━━━━━━━━━━━━\u001b[0m \u001b[32m584.3/584.3 kB\u001b[0m \u001b[31m20.9 MB/s\u001b[0m eta \u001b[36m0:00:00\u001b[0m\n",
            "\u001b[?25hDownloading chroma_hnswlib-0.7.6-cp310-cp310-manylinux_2_17_x86_64.manylinux2014_x86_64.whl (2.4 MB)\n",
            "\u001b[2K   \u001b[90m━━━━━━━━━━━━━━━━━━━━━━━━━━━━━━━━━━━━━━━━\u001b[0m \u001b[32m2.4/2.4 MB\u001b[0m \u001b[31m79.9 MB/s\u001b[0m eta \u001b[36m0:00:00\u001b[0m\n",
            "\u001b[?25hDownloading bcrypt-4.2.0-cp39-abi3-manylinux_2_28_x86_64.whl (273 kB)\n",
            "\u001b[2K   \u001b[90m━━━━━━━━━━━━━━━━━━━━━━━━━━━━━━━━━━━━━━━━\u001b[0m \u001b[32m273.8/273.8 kB\u001b[0m \u001b[31m23.8 MB/s\u001b[0m eta \u001b[36m0:00:00\u001b[0m\n",
            "\u001b[?25hDownloading fastapi-0.112.0-py3-none-any.whl (93 kB)\n",
            "\u001b[2K   \u001b[90m━━━━━━━━━━━━━━━━━━━━━━━━━━━━━━━━━━━━━━━━\u001b[0m \u001b[32m93.1/93.1 kB\u001b[0m \u001b[31m9.7 MB/s\u001b[0m eta \u001b[36m0:00:00\u001b[0m\n",
            "\u001b[?25hDownloading kubernetes-30.1.0-py2.py3-none-any.whl (1.7 MB)\n",
            "\u001b[2K   \u001b[90m━━━━━━━━━━━━━━━━━━━━━━━━━━━━━━━━━━━━━━━━\u001b[0m \u001b[32m1.7/1.7 MB\u001b[0m \u001b[31m79.5 MB/s\u001b[0m eta \u001b[36m0:00:00\u001b[0m\n",
            "\u001b[?25hDownloading mmh3-4.1.0-cp310-cp310-manylinux_2_5_x86_64.manylinux1_x86_64.manylinux_2_17_x86_64.manylinux2014_x86_64.whl (67 kB)\n",
            "\u001b[2K   \u001b[90m━━━━━━━━━━━━━━━━━━━━━━━━━━━━━━━━━━━━━━━━\u001b[0m \u001b[32m67.6/67.6 kB\u001b[0m \u001b[31m7.0 MB/s\u001b[0m eta \u001b[36m0:00:00\u001b[0m\n",
            "\u001b[?25hDownloading onnxruntime-1.18.1-cp310-cp310-manylinux_2_27_x86_64.manylinux_2_28_x86_64.whl (6.8 MB)\n",
            "\u001b[2K   \u001b[90m━━━━━━━━━━━━━━━━━━━━━━━━━━━━━━━━━━━━━━━━\u001b[0m \u001b[32m6.8/6.8 MB\u001b[0m \u001b[31m121.6 MB/s\u001b[0m eta \u001b[36m0:00:00\u001b[0m\n",
            "\u001b[?25hDownloading opentelemetry_api-1.26.0-py3-none-any.whl (61 kB)\n",
            "\u001b[2K   \u001b[90m━━━━━━━━━━━━━━━━━━━━━━━━━━━━━━━━━━━━━━━━\u001b[0m \u001b[32m61.5/61.5 kB\u001b[0m \u001b[31m6.7 MB/s\u001b[0m eta \u001b[36m0:00:00\u001b[0m\n",
            "\u001b[?25hDownloading opentelemetry_exporter_otlp_proto_grpc-1.26.0-py3-none-any.whl (18 kB)\n",
            "Downloading opentelemetry_exporter_otlp_proto_common-1.26.0-py3-none-any.whl (17 kB)\n",
            "Downloading opentelemetry_proto-1.26.0-py3-none-any.whl (52 kB)\n",
            "\u001b[2K   \u001b[90m━━━━━━━━━━━━━━━━━━━━━━━━━━━━━━━━━━━━━━━━\u001b[0m \u001b[32m52.5/52.5 kB\u001b[0m \u001b[31m5.7 MB/s\u001b[0m eta \u001b[36m0:00:00\u001b[0m\n",
            "\u001b[?25hDownloading opentelemetry_instrumentation_fastapi-0.47b0-py3-none-any.whl (11 kB)\n",
            "Downloading opentelemetry_instrumentation-0.47b0-py3-none-any.whl (29 kB)\n",
            "Downloading opentelemetry_instrumentation_asgi-0.47b0-py3-none-any.whl (15 kB)\n",
            "Downloading opentelemetry_semantic_conventions-0.47b0-py3-none-any.whl (138 kB)\n",
            "\u001b[2K   \u001b[90m━━━━━━━━━━━━━━━━━━━━━━━━━━━━━━━━━━━━━━━━\u001b[0m \u001b[32m138.0/138.0 kB\u001b[0m \u001b[31m15.6 MB/s\u001b[0m eta \u001b[36m0:00:00\u001b[0m\n",
            "\u001b[?25hDownloading opentelemetry_util_http-0.47b0-py3-none-any.whl (6.9 kB)\n",
            "Downloading opentelemetry_sdk-1.26.0-py3-none-any.whl (109 kB)\n",
            "\u001b[2K   \u001b[90m━━━━━━━━━━━━━━━━━━━━━━━━━━━━━━━━━━━━━━━━\u001b[0m \u001b[32m109.5/109.5 kB\u001b[0m \u001b[31m8.5 MB/s\u001b[0m eta \u001b[36m0:00:00\u001b[0m\n",
            "\u001b[?25hDownloading overrides-7.7.0-py3-none-any.whl (17 kB)\n",
            "Downloading posthog-3.5.0-py2.py3-none-any.whl (41 kB)\n",
            "\u001b[2K   \u001b[90m━━━━━━━━━━━━━━━━━━━━━━━━━━━━━━━━━━━━━━━━\u001b[0m \u001b[32m41.3/41.3 kB\u001b[0m \u001b[31m4.3 MB/s\u001b[0m eta \u001b[36m0:00:00\u001b[0m\n",
            "\u001b[?25hDownloading uvicorn-0.30.5-py3-none-any.whl (62 kB)\n",
            "\u001b[2K   \u001b[90m━━━━━━━━━━━━━━━━━━━━━━━━━━━━━━━━━━━━━━━━\u001b[0m \u001b[32m62.8/62.8 kB\u001b[0m \u001b[31m6.4 MB/s\u001b[0m eta \u001b[36m0:00:00\u001b[0m\n",
            "\u001b[?25hDownloading Deprecated-1.2.14-py2.py3-none-any.whl (9.6 kB)\n",
            "Downloading httptools-0.6.1-cp310-cp310-manylinux_2_5_x86_64.manylinux1_x86_64.manylinux_2_17_x86_64.manylinux2014_x86_64.whl (341 kB)\n",
            "\u001b[2K   \u001b[90m━━━━━━━━━━━━━━━━━━━━━━━━━━━━━━━━━━━━━━━━\u001b[0m \u001b[32m341.4/341.4 kB\u001b[0m \u001b[31m34.2 MB/s\u001b[0m eta \u001b[36m0:00:00\u001b[0m\n",
            "\u001b[?25hDownloading importlib_metadata-8.0.0-py3-none-any.whl (24 kB)\n",
            "Downloading monotonic-1.6-py2.py3-none-any.whl (8.2 kB)\n",
            "Downloading python_dotenv-1.0.1-py3-none-any.whl (19 kB)\n",
            "Downloading starlette-0.37.2-py3-none-any.whl (71 kB)\n",
            "\u001b[2K   \u001b[90m━━━━━━━━━━━━━━━━━━━━━━━━━━━━━━━━━━━━━━━━\u001b[0m \u001b[32m71.9/71.9 kB\u001b[0m \u001b[31m6.9 MB/s\u001b[0m eta \u001b[36m0:00:00\u001b[0m\n",
            "\u001b[?25hDownloading uvloop-0.19.0-cp310-cp310-manylinux_2_17_x86_64.manylinux2014_x86_64.whl (3.4 MB)\n",
            "\u001b[2K   \u001b[90m━━━━━━━━━━━━━━━━━━━━━━━━━━━━━━━━━━━━━━━━\u001b[0m \u001b[32m3.4/3.4 MB\u001b[0m \u001b[31m77.4 MB/s\u001b[0m eta \u001b[36m0:00:00\u001b[0m\n",
            "\u001b[?25hDownloading watchfiles-0.22.0-cp310-cp310-manylinux_2_17_x86_64.manylinux2014_x86_64.whl (1.2 MB)\n",
            "\u001b[2K   \u001b[90m━━━━━━━━━━━━━━━━━━━━━━━━━━━━━━━━━━━━━━━━\u001b[0m \u001b[32m1.2/1.2 MB\u001b[0m \u001b[31m58.5 MB/s\u001b[0m eta \u001b[36m0:00:00\u001b[0m\n",
            "\u001b[?25hDownloading websockets-12.0-cp310-cp310-manylinux_2_5_x86_64.manylinux1_x86_64.manylinux_2_17_x86_64.manylinux2014_x86_64.whl (130 kB)\n",
            "\u001b[2K   \u001b[90m━━━━━━━━━━━━━━━━━━━━━━━━━━━━━━━━━━━━━━━━\u001b[0m \u001b[32m130.2/130.2 kB\u001b[0m \u001b[31m10.4 MB/s\u001b[0m eta \u001b[36m0:00:00\u001b[0m\n",
            "\u001b[?25hDownloading coloredlogs-15.0.1-py2.py3-none-any.whl (46 kB)\n",
            "\u001b[2K   \u001b[90m━━━━━━━━━━━━━━━━━━━━━━━━━━━━━━━━━━━━━━━━\u001b[0m \u001b[32m46.0/46.0 kB\u001b[0m \u001b[31m4.5 MB/s\u001b[0m eta \u001b[36m0:00:00\u001b[0m\n",
            "\u001b[?25hDownloading asgiref-3.8.1-py3-none-any.whl (23 kB)\n",
            "Downloading humanfriendly-10.0-py2.py3-none-any.whl (86 kB)\n",
            "\u001b[2K   \u001b[90m━━━━━━━━━━━━━━━━━━━━━━━━━━━━━━━━━━━━━━━━\u001b[0m \u001b[32m86.8/86.8 kB\u001b[0m \u001b[31m8.8 MB/s\u001b[0m eta \u001b[36m0:00:00\u001b[0m\n",
            "\u001b[?25hBuilding wheels for collected packages: pypika\n",
            "  Building wheel for pypika (pyproject.toml) ... \u001b[?25l\u001b[?25hdone\n",
            "  Created wheel for pypika: filename=PyPika-0.48.9-py2.py3-none-any.whl size=53725 sha256=94c58945676979bb287c82a0a889a20d6e3caa1ccf8e7c56f023bf0934d35b8d\n",
            "  Stored in directory: /root/.cache/pip/wheels/e1/26/51/d0bffb3d2fd82256676d7ad3003faea3bd6dddc9577af665f4\n",
            "Successfully built pypika\n",
            "Installing collected packages: pypika, monotonic, mmh3, websockets, uvloop, uvicorn, python-dotenv, overrides, opentelemetry-util-http, opentelemetry-proto, importlib-metadata, humanfriendly, httptools, deprecated, chroma-hnswlib, bcrypt, asgiref, watchfiles, starlette, posthog, opentelemetry-exporter-otlp-proto-common, opentelemetry-api, coloredlogs, opentelemetry-semantic-conventions, opentelemetry-instrumentation, onnxruntime, kubernetes, fastapi, opentelemetry-sdk, opentelemetry-instrumentation-asgi, opentelemetry-instrumentation-fastapi, opentelemetry-exporter-otlp-proto-grpc, chromadb\n",
            "  Attempting uninstall: importlib-metadata\n",
            "    Found existing installation: importlib_metadata 8.2.0\n",
            "    Uninstalling importlib_metadata-8.2.0:\n",
            "      Successfully uninstalled importlib_metadata-8.2.0\n",
            "Successfully installed asgiref-3.8.1 bcrypt-4.2.0 chroma-hnswlib-0.7.6 chromadb-0.5.5 coloredlogs-15.0.1 deprecated-1.2.14 fastapi-0.112.0 httptools-0.6.1 humanfriendly-10.0 importlib-metadata-8.0.0 kubernetes-30.1.0 mmh3-4.1.0 monotonic-1.6 onnxruntime-1.18.1 opentelemetry-api-1.26.0 opentelemetry-exporter-otlp-proto-common-1.26.0 opentelemetry-exporter-otlp-proto-grpc-1.26.0 opentelemetry-instrumentation-0.47b0 opentelemetry-instrumentation-asgi-0.47b0 opentelemetry-instrumentation-fastapi-0.47b0 opentelemetry-proto-1.26.0 opentelemetry-sdk-1.26.0 opentelemetry-semantic-conventions-0.47b0 opentelemetry-util-http-0.47b0 overrides-7.7.0 posthog-3.5.0 pypika-0.48.9 python-dotenv-1.0.1 starlette-0.37.2 uvicorn-0.30.5 uvloop-0.19.0 watchfiles-0.22.0 websockets-12.0\n"
          ]
        }
      ]
    },
    {
      "cell_type": "code",
      "source": [
        "from langchain.indexes import VectorstoreIndexCreator\n",
        "index = VectorstoreIndexCreator().from_loaders([loader])"
      ],
      "metadata": {
        "id": "PWRl2RQk8l7w"
      },
      "execution_count": null,
      "outputs": []
    },
    {
      "cell_type": "code",
      "source": [
        "query = \"Each spike in readership was followed by\"\n",
        "index.query(query)"
      ],
      "metadata": {
        "id": "vizFVRrq9KVo"
      },
      "execution_count": null,
      "outputs": []
    }
  ]
}